{
 "cells": [
  {
   "cell_type": "code",
   "execution_count": 68,
   "metadata": {},
   "outputs": [],
   "source": [
    "import numpy as np\n",
    "import matplotlib.pyplot as plt\n",
    "import math\n",
    "from sklearn.metrics import auc\n"
   ]
  },
  {
   "cell_type": "markdown",
   "metadata": {},
   "source": [
    "# Background Lecture 1\n",
    "## 1.4.2 exercise 1\n",
    "\n",
    "prior: $P(T) = \\mathcal{N}(T; 37^o, (4^o)^2) $\n",
    "error distribution: $P(h | T) = \\mathcal{N}(ah; T, (1\\text{mm})^2)$"
   ]
  },
  {
   "cell_type": "code",
   "execution_count": 69,
   "metadata": {},
   "outputs": [
    {
     "data": {
      "text/plain": [
       "[<matplotlib.lines.Line2D at 0x7f74cc829040>]"
      ]
     },
     "execution_count": 69,
     "metadata": {},
     "output_type": "execute_result"
    },
    {
     "data": {
      "image/png": "[encoded data removed]",
      "text/plain": [
       "<Figure size 432x288 with 1 Axes>"
      ]
     },
     "metadata": {
      "needs_background": "light"
     },
     "output_type": "display_data"
    }
   ],
   "source": [
    "def pdf(x, mu, sigma):\n",
    "    return np.exp(-(1/2)*((x-mu)/sigma)**2)/(sigma * np.sqrt(2 * np.pi))\n",
    "\n",
    "mu = 37\n",
    "sigma = 4\n",
    "d_t = 0.5\n",
    "    \n",
    "x_range = np.arange(-30, 50.5, d_t)\n",
    "prior = pdf(x_range, mu, sigma)\n",
    "plt.plot(x_range, prior)\n"
   ]
  },
  {
   "cell_type": "markdown",
   "metadata": {},
   "source": [
    "Let's use a std of 1 mm rather than 0.01\n",
    "\n",
    "\n",
    "$$ p(h) \\approx \\sum_{m}p(h|T)p(T)\\Delta t $$"
   ]
  },
  {
   "cell_type": "code",
   "execution_count": 80,
   "metadata": {},
   "outputs": [
    {
     "data": {
      "text/plain": [
       "array([ 69. ,  68.5,  68. ,  67.5,  67. ,  66.5,  66. ,  65.5,  65. ,\n",
       "        64.5,  64. ,  63.5,  63. ,  62.5,  62. ,  61.5,  61. ,  60.5,\n",
       "        60. ,  59.5,  59. ,  58.5,  58. ,  57.5,  57. ,  56.5,  56. ,\n",
       "        55.5,  55. ,  54.5,  54. ,  53.5,  53. ,  52.5,  52. ,  51.5,\n",
       "        51. ,  50.5,  50. ,  49.5,  49. ,  48.5,  48. ,  47.5,  47. ,\n",
       "        46.5,  46. ,  45.5,  45. ,  44.5,  44. ,  43.5,  43. ,  42.5,\n",
       "        42. ,  41.5,  41. ,  40.5,  40. ,  39.5,  39. ,  38.5,  38. ,\n",
       "        37.5,  37. ,  36.5,  36. ,  35.5,  35. ,  34.5,  34. ,  33.5,\n",
       "        33. ,  32.5,  32. ,  31.5,  31. ,  30.5,  30. ,  29.5,  29. ,\n",
       "        28.5,  28. ,  27.5,  27. ,  26.5,  26. ,  25.5,  25. ,  24.5,\n",
       "        24. ,  23.5,  23. ,  22.5,  22. ,  21.5,  21. ,  20.5,  20. ,\n",
       "        19.5,  19. ,  18.5,  18. ,  17.5,  17. ,  16.5,  16. ,  15.5,\n",
       "        15. ,  14.5,  14. ,  13.5,  13. ,  12.5,  12. ,  11.5,  11. ,\n",
       "        10.5,  10. ,   9.5,   9. ,   8.5,   8. ,   7.5,   7. ,   6.5,\n",
       "         6. ,   5.5,   5. ,   4.5,   4. ,   3.5,   3. ,   2.5,   2. ,\n",
       "         1.5,   1. ,   0.5,   0. ,  -0.5,  -1. ,  -1.5,  -2. ,  -2.5,\n",
       "        -3. ,  -3.5,  -4. ,  -4.5,  -5. ,  -5.5,  -6. ,  -6.5,  -7. ,\n",
       "        -7.5,  -8. ,  -8.5,  -9. ,  -9.5, -10. , -10.5, -11. ])"
      ]
     },
     "execution_count": 80,
     "metadata": {},
     "output_type": "execute_result"
    }
   ],
   "source": [
    "39 - x_range "
   ]
  },
  {
   "cell_type": "code",
   "execution_count": 70,
   "metadata": {},
   "outputs": [
    {
     "data": {
      "text/plain": [
       "0.07365400655795287"
      ]
     },
     "execution_count": 70,
     "metadata": {},
     "output_type": "execute_result"
    }
   ],
   "source": [
    "h_std = 1\n",
    "reading = pdf(13*3, x_range, h_std*3)\n",
    "evidence = np.sum(reading * prior * d_t)\n",
    "evidence"
   ]
  },
  {
   "cell_type": "markdown",
   "metadata": {},
   "source": [
    "$$\n",
    "    p(T | h ) = \\frac{p(h | T)P(T)}{P(h)}\n",
    "$$"
   ]
  },
  {
   "cell_type": "code",
   "execution_count": 71,
   "metadata": {},
   "outputs": [],
   "source": [
    "posterior = (reading * prior) / evidence"
   ]
  },
  {
   "cell_type": "code",
   "execution_count": 72,
   "metadata": {},
   "outputs": [
    {
     "data": {
      "text/plain": [
       "[<matplotlib.lines.Line2D at 0x7f74cc667b20>]"
      ]
     },
     "execution_count": 72,
     "metadata": {},
     "output_type": "execute_result"
    },
    {
     "data": {
      "image/png": "[encoded data removed]",
      "text/plain": [
       "<Figure size 432x288 with 1 Axes>"
      ]
     },
     "metadata": {
      "needs_background": "light"
     },
     "output_type": "display_data"
    }
   ],
   "source": [
    "plt.plot(x_range, posterior)\n"
   ]
  },
  {
   "cell_type": "code",
   "execution_count": 73,
   "metadata": {},
   "outputs": [
    {
     "data": {
      "text/plain": [
       "0.9999997243609348"
      ]
     },
     "execution_count": 73,
     "metadata": {},
     "output_type": "execute_result"
    }
   ],
   "source": [
    "auc(x_range, posterior)"
   ]
  },
  {
   "cell_type": "code",
   "execution_count": 74,
   "metadata": {},
   "outputs": [
    {
     "name": "stdout",
     "output_type": "stream",
     "text": [
      "0.165529083662348\n",
      "38.5\n"
     ]
    }
   ],
   "source": [
    "print(np.max(posterior))\n",
    "print(x_range[np.argmax(posterior)])"
   ]
  },
  {
   "cell_type": "markdown",
   "metadata": {},
   "source": [
    "## Exercise 2: Temperature measurement through prankster friend"
   ]
  },
  {
   "cell_type": "markdown",
   "metadata": {},
   "source": [
    "Compute the quantized posterior assuming the your friend tells you that the value is 42 degress. Compare it with the prior.\n",
    "Because our friend might tell us it's 42 degrees 0.5 of the times, our error distribution $p(h |T)$ changes. We have to consider the fact that it might actually be 42, but also that he might be pranking, so the error moves to the right.\n",
    "\n",
    "\n",
    "prior: $P(T) = \\mathcal{N}(T; 37^o, (4^o)^2) $  \n",
    "evidence: $p(h) \\approx \\sum_m p(h | T)p(T)\\Delta t$  \n",
    "reading error distribution: $ p(h | T) = 0.5 * \\mathcal{N}(ah; T, 1\\text{mm}^2) + 0.5 * \\delta(ah, 42)$  "
   ]
  },
  {
   "cell_type": "code",
   "execution_count": 75,
   "metadata": {},
   "outputs": [
    {
     "data": {
      "text/plain": [
       "0.5239673528387965"
      ]
     },
     "execution_count": 75,
     "metadata": {},
     "output_type": "execute_result"
    }
   ],
   "source": [
    "def delta(x):\n",
    "    return np.array(x == 42, dtype=int)\n",
    "\n",
    "\n",
    "d_t = 0.5\n",
    "t_range = np.arange(-30, 50.5, d_t)\n",
    "\n",
    "prior = pdf(t_range, 37, 4)\n",
    "likelihood = 0.5*pdf(42, t_range, 1*3) + 0.5*delta(42) # likelihood that the reading is correct\n",
    "evidence = np.sum(likelihood * prior * d_t)\n",
    "evidence"
   ]
  },
  {
   "cell_type": "markdown",
   "metadata": {},
   "source": [
    "Calculate the posterior $ p(T | h ) = \\dfrac{p(h | T) p(T)}{p(h)}$  \n"
   ]
  },
  {
   "cell_type": "code",
   "execution_count": 76,
   "metadata": {},
   "outputs": [
    {
     "data": {
      "text/plain": [
       "0.9994144053839443"
      ]
     },
     "execution_count": 76,
     "metadata": {},
     "output_type": "execute_result"
    },
    {
     "data": {
      "image/png": "[encoded data removed]",
      "text/plain": [
       "<Figure size 432x288 with 1 Axes>"
      ]
     },
     "metadata": {
      "needs_background": "light"
     },
     "output_type": "display_data"
    }
   ],
   "source": [
    "posterior = evidence * prior / evidence\n",
    "plt.plot(t_range, posterior)\n",
    "auc(t_range, posterior)"
   ]
  },
  {
   "cell_type": "markdown",
   "metadata": {},
   "source": [
    "Compute the quantized posterior if your friend gives you a reading of 13 mm = 39 deg. Compare with the posterior obtained from the previous exercise.  \n",
    "Discuss the result"
   ]
  },
  {
   "cell_type": "code",
   "execution_count": 77,
   "metadata": {},
   "outputs": [
    {
     "data": {
      "text/plain": [
       "1.0"
      ]
     },
     "execution_count": 77,
     "metadata": {},
     "output_type": "execute_result"
    },
    {
     "data": {
      "image/png": "[encoded data removed]",
      "text/plain": [
       "<Figure size 432x288 with 1 Axes>"
      ]
     },
     "metadata": {
      "needs_background": "light"
     },
     "output_type": "display_data"
    }
   ],
   "source": [
    "#d_t = 0.05\n",
    "#z_range = np.arange(0, 75, d_t)\n",
    "#likelihood = gaussian_pdf(13*3, z_range, 1*3) * 0.5 + delta_42(13*3) * 0.5\n",
    "#prior = gaussian_pdf(z_range, 37, 4)\n",
    "#posterior = likelihood * prior / evidence\n",
    "\n",
    "d_t = 0.5\n",
    "t_range = np.arange(0, 80, d_t)\n",
    "prior = pdf(t_range, 37, 4)\n",
    "likelihood = 0.5*pdf(3*13, t_range, 3) + 0.5*(delta(13*3)) # likelihood that the reading is correct\n",
    "evidence = np.sum(likelihood * prior * d_t) \n",
    "posterior = likelihood * prior / evidence\n",
    "plt.plot(t_range, posterior)\n",
    "auc(t_range, posterior)"
   ]
  },
  {
   "cell_type": "code",
   "execution_count": 78,
   "metadata": {},
   "outputs": [
    {
     "data": {
      "text/plain": [
       "38.5"
      ]
     },
     "execution_count": 78,
     "metadata": {},
     "output_type": "execute_result"
    }
   ],
   "source": [
    "t_range[np.argmax(posterior)]"
   ]
  },
  {
   "cell_type": "code",
   "execution_count": 79,
   "metadata": {},
   "outputs": [
    {
     "data": {
      "text/plain": [
       "0.1655290353374393"
      ]
     },
     "execution_count": 79,
     "metadata": {},
     "output_type": "execute_result"
    }
   ],
   "source": [
    "np.max(posterior)"
   ]
  },
  {
   "cell_type": "markdown",
   "metadata": {},
   "source": [
    "## "
   ]
  }
 ],
 "metadata": {
  "interpreter": {
   "hash": "9005875dd18c920bfab1bb2c8479d0e1e7ddd2401cd9723df4ee61e0d0148aca"
  },
  "kernelspec": {
   "display_name": "Python 3.9.6 64-bit ('d2l': conda)",
   "language": "python",
   "name": "python3"
  },
  "language_info": {
   "codemirror_mode": {
    "name": "ipython",
    "version": 3
   },
   "file_extension": ".py",
   "mimetype": "text/x-python",
   "name": "python",
   "nbconvert_exporter": "python",
   "pygments_lexer": "ipython3",
   "version": "3.9.6"
  },
  "orig_nbformat": 4
 },
 "nbformat": 4,
 "nbformat_minor": 2
}
