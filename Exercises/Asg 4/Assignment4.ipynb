{
  "nbformat": 4,
  "nbformat_minor": 0,
  "metadata": {
    "colab": {
      "name": "Assignment4.ipynb",
      "provenance": [],
      "collapsed_sections": []
    },
    "kernelspec": {
      "name": "python3",
      "display_name": "Python 3"
    },
    "language_info": {
      "name": "python"
    }
  },
  "cells": [
    {
      "cell_type": "markdown",
      "source": [
        "# Deep autoregressive models\n",
        "\n",
        "In this assignment you will work with deep autoregressive model. The starting point will be a pixel CNN trained on MNIST.\n",
        "\n",
        "## Question 1\n",
        "The first step is to get familiar with deep covlolutional autoregressive architectures. The first step is to go through the following tutorial:\n",
        "\n",
        "https://uvadlc-notebooks.readthedocs.io/en/latest/tutorial_notebooks/tutorial12/Autoregressive_Image_Modeling.html\n",
        "\n",
        "After having studied the tutorial, you should:\n",
        "\n",
        "1) Explain in your words why the ConvNet need to be masked\n",
        "2) Train the ConvNet provided there on the fashion MNIST dataset, which can be inported from torchvision.\n",
        "\n",
        "## Question 2\n",
        "Adapt the code so that it can run on the CIFAR10 dataset. Afterwards you shouold:\n",
        "\n",
        "1) Evaluate the visual quality of generated images. If you are ambitious, you can do it quantitatively using FID scores (https://en.wikipedia.org/wiki/Fr%C3%A9chet_inception_distance). \n",
        "2) Evaluate the image completion performance by computing the pixelwise squared error between the true image and the completed reconstruction. You can evaluate try with a different number of input pixel values.\n",
        "\n",
        "## Question 3\n",
        "Train a variational autoencoder on CIFAR10 using an architecture of your choice. Compare with the pixelCNN results. Wich one does generate better samples?\n"
      ],
      "metadata": {
        "id": "KK_ApLuRMEkX"
      }
    },
    {
      "cell_type": "code",
      "source": [
        ""
      ],
      "metadata": {
        "id": "aWzO7Jj_PyaS"
      },
      "execution_count": null,
      "outputs": []
    }
  ]
}