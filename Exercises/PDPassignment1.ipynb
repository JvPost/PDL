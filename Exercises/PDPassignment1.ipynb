{
  "nbformat": 4,
  "nbformat_minor": 0,
  "metadata": {
    "colab": {
      "name": "PDPassignment1.ipynb",
      "provenance": []
    },
    "kernelspec": {
      "name": "python3",
      "display_name": "Python 3"
    },
    "language_info": {
      "name": "python"
    }
  },
  "cells": [
    {
      "cell_type": "markdown",
      "source": [
        "In this assignment, you will learn how to use stochastic Langevin Monet Carlo in order to sample from the posterior of a deep network. For the sake of simplicity, we will work with a simple two-layer perceptron architecture:\n",
        "\n",
        "$$\n",
        "f(x) = W_2 \\text{ReLu}(W_1 x + b_1) + b_2\n",
        "$$\n",
        "\n",
        "where $x$ is the (vectorized) input image,  $W_1$ and $W_2$ are weight matrices and $b_1$ and $b_2$ are bias vectors. We use this architecture to learn how to solve a multi-class classification problem with the usual cross-entropy softmax likelihood:\n",
        "\n",
        "$$\n",
        "p(y_j \\mid W_1, W_2, b_1, b_2, x_j) = \\prod_{k=1}^\\text{num classes} \\rho_k(x_j)^{y_j}\n",
        "$$\n",
        "\n",
        "where $y_j$ is the one-hot-encoded training label of the $j$-th image. This is just a categorical distribution over the class labels with probabilities given by our neural network. The model probabilities $\\rho_k(x_j)$ are obtained by applying the softmax function to the network outputs:\n",
        "\n",
        "$$\n",
        "\\rho_k(x_j) = \\frac{e^{f_k(x_j)}}{\\sum_k^\\text{num classes} e^{f_k(x_j)}}\n",
        "$$\n",
        "\n",
        "It is easy to see that the softmax transform the uncontraned outputs of the network into a normalized and positive-valued vector that can be interpreted as giving the class probabilities. The loss can be computed by evaluating the negative logarithm of this likelihood and correspond to the usual softmax cross-entropy loss.\n",
        "\n",
        "We can turn this architecture into a Bayesian neural net by assigning prior distributions to the weights. The simplest op[tion is to use independent Gaussian priors for both weights and biases:\n",
        "\n",
        "$$\n",
        "p(W_1) \\sim \\mathcal{N}(0, I \\sigma_{W_1}^2)\n",
        "$$\n",
        "$$\n",
        "p(W_2) \\sim \\mathcal{N}(0, I \\sigma_{W_1}^2)\n",
        "$$\n",
        "$$\n",
        "p(b_1) \\sim \\mathcal{N}(0, I \\sigma_{W_1}^2)\n",
        "$$\n",
        "$$\n",
        "p(b_2) \\sim \\mathcal{N}(0, I \\sigma_{W_1}^2)\n",
        "$$\n",
        "We are not bothered by the fact that those variables are respectively matrices and vectors since our Gaussian are assigned independently to each entry. \n",
        "\n",
        "In the following code, we use PyTorch to obtain the MAP estimate of the weights by SGD on the fashon MNIST dataset. We start by importing the relevant modules:\n"
      ],
      "metadata": {
        "id": "m6_IxQAs85ec"
      }
    },
    {
      "cell_type": "code",
      "execution_count": 6,
      "metadata": {
        "id": "xAqNxuz3nyq5"
      },
      "outputs": [],
      "source": [
        "import torch\n",
        "from torch import nn\n",
        "import torch.nn.functional as F\n",
        "import matplotlib.pyplot as plt\n",
        "import numpy as np\n",
        "import torchvision\n",
        "import torchvision.transforms as transforms"
      ]
    },
    {
      "cell_type": "code",
      "source": [
        "# PyTorch TensorBoard support\n",
        "from torch.utils.tensorboard import SummaryWriter\n",
        "from datetime import datetime\n",
        "\n",
        "transform = transforms.Compose(\n",
        "    [transforms.ToTensor(),\n",
        "    transforms.Normalize((0.5,), (0.5,))])\n",
        "\n",
        "# Create datasets for training & validation, download if necessary\n",
        "training_set = torchvision.datasets.FashionMNIST('./data', train=True, transform=transform, download=True)\n",
        "validation_set = torchvision.datasets.FashionMNIST('./data', train=False, transform=transform, download=True)"
      ],
      "metadata": {
        "id": "QMNrGAIboP-W"
      },
      "execution_count": 7,
      "outputs": []
    },
    {
      "cell_type": "markdown",
      "source": [
        "We can now import and process the training and validation data."
      ],
      "metadata": {
        "id": "7Mv78uBGBPip"
      }
    },
    {
      "cell_type": "code",
      "source": [
        "image_length = 28\n",
        "training_size = len(training_set)\n",
        "val_size = len(validation_set)\n",
        "\n",
        "training_dataset = torch.concat([training_set[k][0].view(1,image_length**2) for k in range(training_size)])\n",
        "training_labels = torch.Tensor([training_set[k][1] for k in range(training_size)]).long()\n",
        "val_dataset = torch.concat([validation_set[k][0].view(1,image_length**2) for k in range(val_size)])\n",
        "val_labels = torch.Tensor([validation_set[k][1] for k in range(val_size)]).long()\n",
        "\n",
        "plt.imshow(training_dataset[0,:].view((image_length,image_length)).detach().numpy(), cmap='gray')\n",
        "plt.show()"
      ],
      "metadata": {
        "colab": {
          "base_uri": "https://localhost:8080/",
          "height": 265
        },
        "id": "gIudiVqGopGL",
        "outputId": "5a909b79-baca-495f-e81c-ab2147fd497b"
      },
      "execution_count": 11,
      "outputs": [
        {
          "output_type": "display_data",
          "data": {
            "image/png": "[encoded data removed]",
            "text/plain": [
              "<Figure size 432x288 with 1 Axes>"
            ]
          },
          "metadata": {
            "needs_background": "light"
          }
        }
      ]
    },
    {
      "cell_type": "markdown",
      "source": [
        "We can now define the two-layer perceptron model in PyTorch. Since our future aim is to do sampling, it is convenient to initialize weights and biases as trainable nn.Parameters instead of initializing the layers directly. In this way, we will not need to extract these variables from the layer. "
      ],
      "metadata": {
        "id": "xaOXN1SPBYeq"
      }
    },
    {
      "cell_type": "code",
      "source": [
        "# Network forward pass\n",
        "num_labels = 10\n",
        "\n",
        "class Network(nn.Module):\n",
        "    def __init__(self, h_size=100, in_scale = 0.01):\n",
        "        super(Network, self).__init__()\n",
        "        # Parameters\n",
        "        self.h_size = h_size\n",
        "        self.W1 = nn.Parameter(in_scale*torch.rand((self.h_size, image_length**2)))\n",
        "        self.b1 = nn.Parameter(in_scale*torch.rand((self.h_size, )))\n",
        "        self.W2 = nn.Parameter(in_scale*torch.rand((num_labels, self.h_size)))\n",
        "        self.b2 = nn.Parameter(in_scale*torch.rand((num_labels, )))\n",
        "        self.params = [self.W1, self.W2, self.b1, self.b2]\n",
        "        # Prior variances\n",
        "        self.w1_scale = 1\n",
        "        self.w2_scale = 1\n",
        "        self.b1_scale = 1000\n",
        "        self.b2_scale = 1000\n",
        "\n",
        "    def forward(self, x):\n",
        "        x = F.relu(F.linear(x, self.W1, bias=self.b1))\n",
        "        x = F.linear(x, self.W2, bias=self.b2)\n",
        "        return x\n",
        "\n",
        "    def batch_nlog_likelihood(self, x, y):\n",
        "      loss_fn = torch.nn.CrossEntropyLoss(reduction='mean')\n",
        "      return loss_fn(self.forward(x), y)\n",
        "\n",
        "    def log_prior(self): # This can be interpreted as a weight decay regularization. High weights are penalize as they could lead to overfitting. \n",
        "      w1_prior = - 0.5*torch.sum(self.W1**2)/self.w1_scale**2\n",
        "      b1_prior = - 0.5*torch.sum(self.b1**2)/self.b1_scale**2\n",
        "      w2_prior = - 0.5*torch.sum(- self.W2**2)/self.w2_scale**2\n",
        "      b2_prior = - 0.5*torch.sum(self.b2**2)/self.b2_scale**2\n",
        "      return w1_prior + b1_prior + w2_prior + b2_prior\n",
        "\n"
      ],
      "metadata": {
        "id": "bwMK0W_jrbYJ"
      },
      "execution_count": 9,
      "outputs": []
    },
    {
      "cell_type": "markdown",
      "source": [
        "We can now write the SGD training loop as usual. "
      ],
      "metadata": {
        "id": "61dTUxipB-VA"
      }
    },
    {
      "cell_type": "code",
      "source": [
        "# SGD training\n",
        "model = Network(h_size=50)\n",
        "batch_size = 100\n",
        "num_iters1 = 800\n",
        "num_iters2 = 800\n",
        "eta1 = 0.00000001\n",
        "eta2 = 0.000000001\n",
        "\n",
        "loss_list = []\n",
        "for iter in range(num_iters1 + num_iters2):\n",
        "\n",
        "  #Set optimizer\n",
        "  if iter < num_iters1:\n",
        "    optimizer = torch.optim.SGD(model.params, lr=eta1)\n",
        "  else:\n",
        "    optimizer = torch.optim.SGD(model.params, lr=eta2)\n",
        "\n",
        "  # Extract batch\n",
        "  batch_indices = np.random.choice(range(training_size), size=batch_size, replace=False)\n",
        "  batch_images = training_dataset[batch_indices,:]\n",
        "  batch_labels = training_labels[batch_indices]\n",
        "\n",
        "  # Evaluate loss\n",
        "  loss = training_size*model.batch_nlog_likelihood(batch_images, batch_labels) - model.log_prior()\n",
        "\n",
        "  # Compute gradient\n",
        "  loss.backward()\n",
        "  loss_list.append(loss.detach().numpy())\n",
        "\n",
        "  # SGD step\n",
        "  optimizer.step()\n",
        "\n",
        "plt.plot(loss_list)\n",
        "plt.show()\n",
        "\n",
        "accuracy = torch.mean((model.forward(val_dataset).argmax(1) == val_labels).float())\n",
        "print(\"Validation accuracy: {}\".format(accuracy))"
      ],
      "metadata": {
        "colab": {
          "base_uri": "https://localhost:8080/",
          "height": 282
        },
        "id": "TbH7nVAisvc1",
        "outputId": "32a9272c-e41b-45a3-fc40-a0c447309eeb"
      },
      "execution_count": 10,
      "outputs": [
        {
          "output_type": "display_data",
          "data": {
            "image/png": "[encoded data removed]",
            "text/plain": [
              "<Figure size 432x288 with 1 Axes>"
            ]
          },
          "metadata": {
            "needs_background": "light"
          }
        },
        {
          "output_type": "stream",
          "name": "stdout",
          "text": [
            "Validation accuracy: 0.7153000235557556\n"
          ]
        }
      ]
    },
    {
      "cell_type": "markdown",
      "source": [
        "## Assignment 1\n",
        "\n",
        "We can now turn our SGD MAP optimizer into a Langevin MCMC sampler. As stated in the lecture, the transition probabilies have the following form:\n",
        "\n",
        "$$\n",
        "p(W_\\text{new} \\mid W_\\text{old}) = \\mathcal{N}(W_\\text{old} - \\eta \\sum_{j \\in \\text{minibatch}} \\nabla \\mathcal{R}_j(W_\\text{old}), I \\sigma^2)\n",
        "$$\n",
        "\n",
        "where $\\sum_{j \\in \\text{minibatch}} \\nabla \\mathcal{R}_j(W_\\text{old})$ is the mini-bacth stochastic gradient estimate that we used in our previous SGD training. \n",
        "\n",
        "### Question 1\n",
        "Write down the formula for the log-acceptance rate of this MCMC method. \n",
        "\n",
        "### Question 2\n",
        "Implement the poposal distribution in PyTorch by modifing the provided SGD code. Hint: you need to extract the gradient from the variables after the .backward() step, add gaissian noise and then perform the update. \n",
        "\n",
        "### Question 3\n",
        "Write PyTorch code to compute the log-acceptance rate given the old and the new proposed sample.\n",
        "\n",
        "### Question 4\n",
        "Use the code you wrote in order to implement the M-H corrected Langevin sampler. At each step, you propose a new sample and then use the acceptance rate in order to decide whether to accept it or not. Use the sampler to train the Bayesian neural network on the fashon MNIST dataset. \n",
        "\n",
        "Investigate the validation accuracy and probabilistic calibration of the Bayesian classifier when you average the prediction probabilities over all collected posterior samples:\n",
        "\n",
        "$$\n",
        "p_k(y_j \\mid x_j) = \\frac{1}{\\text{num samples}}\\sum_{W_1,W_2,b_1,b_2 \\sim \\text{posterior samples}} \\rho_k(x_j;W_1,W_2,b_1,b_2)\n",
        "$$\n",
        "\n",
        "As you can see, the Bayesian deep network can be seen as an ensemble of classifiers."
      ],
      "metadata": {
        "id": "P5AcLVoWCHGC"
      }
    }
  ]
}