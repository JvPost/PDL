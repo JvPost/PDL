{
 "cells": [
  {
   "cell_type": "code",
   "execution_count": 1,
   "metadata": {},
   "outputs": [],
   "source": [
    "import matplotlib.pyplot as plt\n",
    "import numpy as np"
   ]
  },
  {
   "cell_type": "code",
   "execution_count": 25,
   "metadata": {},
   "outputs": [
    {
     "data": {
      "text/plain": [
       "[<matplotlib.lines.Line2D at 0x7fa43b480730>]"
      ]
     },
     "execution_count": 25,
     "metadata": {},
     "output_type": "execute_result"
    },
    {
     "data": {
      "image/png": "[encoded data removed]",
      "text/plain": [
       "<Figure size 432x288 with 1 Axes>"
      ]
     },
     "metadata": {
      "needs_background": "light"
     },
     "output_type": "display_data"
    }
   ],
   "source": [
    "def f(x):\n",
    "    return 1/np.sqrt(np.pi) * np.exp(-x**2)\n",
    "\n",
    "def norm(x, mu=0, sigma=1):\n",
    "    s = sigma\n",
    "    return (1/ (s * np.sqrt(2 * np.pi)))* (np.exp(-(1/2) * ((x - mu)/s)**2))\n",
    "\n",
    "def mean(y):\n",
    "    if (len(y) > 0):\n",
    "        return np.sum(y) / len(y)\n",
    "    else:\n",
    "        return 0\n",
    "\n",
    "def std(y):\n",
    "    mu = mean(y)\n",
    "    if len(y > 0):\n",
    "        return np.sqrt(np.sum((y - mu)**2)/(len(y)-1))\n",
    "    else:\n",
    "        return 0\n",
    "\n",
    "d_x = 0.0001\n",
    "x_axis = np.arange(-3-d_x, 3+d_x, d_x)\n",
    "# y_axis = np.array([norm(x, 0, 1) for x in x_axis])\n",
    "y_axis = np.array([ (1/(np.sqrt(3*np.pi)))*3*f(x) for x in x_axis])\n",
    "\n",
    "plt.plot(x_axis, y_axis)"
   ]
  },
  {
   "cell_type": "code",
   "execution_count": 26,
   "metadata": {},
   "outputs": [
    {
     "name": "stdout",
     "output_type": "stream",
     "text": [
      "integral of function: 0.9771834504622499\n"
     ]
    }
   ],
   "source": [
    "print(\"integral of function:\", np.sum(y_axis * d_x))"
   ]
  },
  {
   "cell_type": "code",
   "execution_count": 27,
   "metadata": {},
   "outputs": [
    {
     "data": {
      "text/plain": [
       "0.19227229385446878"
      ]
     },
     "execution_count": 27,
     "metadata": {},
     "output_type": "execute_result"
    }
   ],
   "source": [
    "y_axis.std()"
   ]
  },
  {
   "cell_type": "markdown",
   "metadata": {},
   "source": [
    "## Quantized entropy of normal"
   ]
  },
  {
   "cell_type": "code",
   "execution_count": 4,
   "metadata": {},
   "outputs": [
    {
     "data": {
      "text/plain": [
       "-0.07936340743055974"
      ]
     },
     "execution_count": 4,
     "metadata": {},
     "output_type": "execute_result"
    }
   ],
   "source": [
    "# quan entropy of distribution\n",
    "\n",
    "entropy = -np.dot(y_axis, np.log(y_axis)) * d_x # <- don't forget *d_x\n",
    "entropy"
   ]
  },
  {
   "cell_type": "markdown",
   "metadata": {},
   "source": [
    "## Continuous entropy of normal"
   ]
  },
  {
   "cell_type": "code",
   "execution_count": 5,
   "metadata": {},
   "outputs": [
    {
     "name": "stdout",
     "output_type": "stream",
     "text": [
      "continuous entropy of gaussian (from wikipedia): 1.4189385332046727\n"
     ]
    }
   ],
   "source": [
    "print(\"continuous entropy of gaussian (from wikipedia):\", np.log(1*np.sqrt(2* np.pi * np.e)))"
   ]
  },
  {
   "cell_type": "markdown",
   "metadata": {},
   "source": [
    "## Typical set\n",
    "In information theory, the typical set is a set of sequences whose probability is close to two raised to the negative power of the entropy of their source \n",
    "distribution. That this set has total probability close to one is a consequence of the asymptotic equipartition property (AEP) which is a kind of law of large numbers. The notion of typicality is only concerned with the probability of a sequence and not the actual sequence itself.\n",
    "\n",
    "This has great use in compression theory as it provides a theoretical means for compressing data, allowing us to represent any sequence Xn using nH(X) bits on average, and, hence, justifying the use of entropy as a measure of information from a source.\n",
    "\n",
    "The AEP can also be proven for a large class of stationary ergodic processes, allowing typical set to be defined in more general cases. "
   ]
  },
  {
   "cell_type": "code",
   "execution_count": 6,
   "metadata": {},
   "outputs": [
    {
     "data": {
      "text/plain": [
       "1.056551731760113"
      ]
     },
     "execution_count": 6,
     "metadata": {},
     "output_type": "execute_result"
    }
   ],
   "source": [
    "2**-entropy"
   ]
  }
 ],
 "metadata": {
  "interpreter": {
   "hash": "dc3bb61b455d774c9243386fc53386966dd9c76776a0ff80d71d1139d96c600e"
  },
  "kernelspec": {
   "display_name": "Python 3.9.7 ('DL')",
   "language": "python",
   "name": "python3"
  },
  "language_info": {
   "codemirror_mode": {
    "name": "ipython",
    "version": 3
   },
   "file_extension": ".py",
   "mimetype": "text/x-python",
   "name": "python",
   "nbconvert_exporter": "python",
   "pygments_lexer": "ipython3",
   "version": "3.9.6"
  },
  "orig_nbformat": 4
 },
 "nbformat": 4,
 "nbformat_minor": 2
}
