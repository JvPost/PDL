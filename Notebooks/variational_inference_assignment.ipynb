{
 "cells": [
  {
   "cell_type": "code",
   "execution_count": 37,
   "metadata": {},
   "outputs": [],
   "source": [
    "import numpy as np\n",
    "import matplotlib.pyplot as plt\n",
    "import torch\n",
    "import torch.nn as nn\n",
    "import torch.nn.functional as F\n",
    "import torch.optim as optim\n",
    "import torch.distributions.normal as dist\n",
    "\n",
    "import time"
   ]
  },
  {
   "cell_type": "code",
   "execution_count": 38,
   "metadata": {},
   "outputs": [
    {
     "name": "stdout",
     "output_type": "stream",
     "text": [
      "cpu\n"
     ]
    }
   ],
   "source": [
    "# device = torch.device(\"cuda\" if torch.cuda.is_available() else \"cpu\")\n",
    "# if torch.cuda.is_available():\n",
    "#     torch.set_default_tensor_type('torch.cuda.FloatTensor')\n",
    "device = \"cpu\"\n",
    "print(device)"
   ]
  },
  {
   "cell_type": "code",
   "execution_count": 39,
   "metadata": {},
   "outputs": [],
   "source": [
    "from torchvision import datasets, transforms\n",
    "\n",
    "transform = transforms.Compose([transforms.ToTensor(),\n",
    "                              transforms.Normalize((0.5,), (0.5,)),\n",
    "                              ])\n",
    "\n",
    "trainset = datasets.MNIST(root='./data',download=False, train=True, transform=transform)\n",
    "testset = datasets.MNIST(root='./data', download=False, transform=transform)\n",
    "\n",
    "# Prepare the training set\n",
    "train_features = torch.cat([data[0].view((1,28*28)) for data in trainset])\n",
    "train_labels = torch.Tensor([data[1] for data in trainset]).type(torch.long)\n",
    "\n"
   ]
  },
  {
   "cell_type": "code",
   "execution_count": 43,
   "metadata": {},
   "outputs": [],
   "source": [
    "\n",
    "class LinearVariational(nn.Module):    \n",
    "    def __init__(self, in_features, out_features, num_samples, prior_scale, mean_forward=True):\n",
    "        super().__init__()\n",
    "        self.in_features = in_features\n",
    "        self.out_features = out_features\n",
    "        self.num_samples = num_samples\n",
    "        self.mean_forward = mean_forward\n",
    "        \n",
    "        self.prior = dist.Normal(loc = torch.zeros(out_features, in_features),\n",
    "                                 scale=prior_scale*torch.ones(out_features, in_features))\n",
    "        \n",
    "        self.mu_W = nn.Parameter(torch.zeros(out_features, in_features))\n",
    "        self.s_W = nn.Parameter(torch.zeros(out_features, in_features))\n",
    "\n",
    "    def get_weight_samples(self, num_samples):\n",
    "        # reparameterize\n",
    "        epsilon_dist = dist.Normal(loc = torch.zeros(self.mu_W.size()[0], self.mu_W.size()[1]),\n",
    "                                                    scale = torch.ones(self.mu_W.size()[0], self.mu_W.size()[1]))\n",
    "        epsilon = epsilon_dist.sample((num_samples,))\n",
    "        weights = self.mu_W + F.softplus(self.s_W)*epsilon\n",
    "        return weights\n",
    "    \n",
    "    def linear(self, weight_samples, x):\n",
    "        return torch.matmul(weight_samples.unsqueeze(0), x.unsqueeze(1).unsqueeze(3)).squeeze()\n",
    "    \n",
    "    def forward(self, x):\n",
    "        weight_samples = self.get_weight_samples(self.num_samples)\n",
    "        out = self.linear(weight_samples, x)\n",
    "        if (self.mean_forward):\n",
    "            return out.mean(1)\n",
    "        else:\n",
    "            return out\n",
    "        \n",
    "    "
   ]
  },
  {
   "cell_type": "code",
   "execution_count": 44,
   "metadata": {},
   "outputs": [],
   "source": [
    "class Variational_Network(nn.Module):\n",
    "    def __init__(self, in_size, hidden_size, out_size, num_samples):\n",
    "        super().__init__()\n",
    "        \n",
    "        self.latents = LinearVariational(in_features=50,\n",
    "                              out_features=10, \n",
    "                              num_samples=num_samples,\n",
    "                              prior_scale=5.,\n",
    "                              mean_forward=False)\n",
    "        \n",
    "        self.layers = nn.Sequential(\n",
    "            # nn.Linear(28*28, 50),\n",
    "            LinearVariational(in_features=28*28,\n",
    "                              out_features=50,\n",
    "                              num_samples=num_samples,\n",
    "                              prior_scale=5.),\n",
    "            nn.LeakyReLU(0.1),\n",
    "            self.latents\n",
    "        )\n",
    "    \n",
    "    def forward(self, x):\n",
    "        return self.layers(x)\n",
    "    \n",
    "    # def evaluate_log_prior(prior, weight_samples):\n",
    "    #     return torch.mean(prior.log_prob(weight_samples))\n",
    "\n",
    "    # def evaluate_log_q(mean, scale, weight_samples):\n",
    "    #     q_dist = dist.Normal(mean, F.softplus(scale))\n",
    "    #     return torch.mean(q_dist.log_prob(weight_samples))\n",
    "\n",
    "    \n",
    "    \n",
    "    def evaluate_log_likelihood(self, features, labels):\n",
    "        # preds = self.linear(weight_samples, features) # performs forward, which I want to do explicitly\n",
    "        preds = self.forward(features)\n",
    "        data_batch, param_batch, num_classes = preds.shape\n",
    "        repeated_labels = torch.cat([y.repeat((param_batch,)) for y in labels])\n",
    "        loss = torch.nn.CrossEntropyLoss(reduction='none')\n",
    "        log_lk_loss = loss(preds.reshape((data_batch*param_batch, num_classes)), repeated_labels)\n",
    "        log_lk_loss = -log_lk_loss.reshape((data_batch, param_batch))\n",
    "        return torch.mean(torch.sum(log_lk_loss, 0))\n",
    "\n",
    "\n",
    "    def evaluate_ELBO(self, features, labels, correction = 1):\n",
    "        # weight_samples = self.get_weight_samples(num_samples)\n",
    "        avg_log_lk = self.evaluate_log_likelihood(features, labels) # y\n",
    "        q = torch.distributions.normal.Normal(self.latents.mu_W, F.softplus(self.latents.s_W))\n",
    "        return correction * (avg_log_lk + torch.mean(torch.distributions.kl.kl_divergence(self.latents.prior, q)))\n",
    "    \n",
    "    \n",
    "    def compute_marginalized_predictions(self, features, num_samples):\n",
    "        pre_preds = self.forward(features)\n",
    "        preds = nn.Softmax(dim=2)(pre_preds)\n",
    "        return torch.mean(preds, 1)\n",
    "        "
   ]
  },
  {
   "cell_type": "markdown",
   "metadata": {},
   "source": [
    "# Exercise 1"
   ]
  },
  {
   "cell_type": "code",
   "execution_count": 48,
   "metadata": {},
   "outputs": [
    {
     "data": {
      "image/png": "[encoded data removed]",
      "text/plain": [
       "<Figure size 432x288 with 1 Axes>"
      ]
     },
     "metadata": {
      "needs_background": "light"
     },
     "output_type": "display_data"
    }
   ],
   "source": [
    "# no minibatching\n",
    "D = 25\n",
    "sub_train_features = train_features[:D,:]\n",
    "sub_train_labels = train_labels[:D]\n",
    "\n",
    "\n",
    "epochs = 2000\n",
    "num_samples = 25\n",
    "\n",
    "variational_network = Variational_Network(in_size=28*28, hidden_size=50, out_size=10, num_samples=num_samples)\n",
    "optimizer = optim.Adam(variational_network.parameters(), lr=0.001)\n",
    "\n",
    "loss_list = []\n",
    "for epoch in range(epochs):\n",
    "    optimizer.zero_grad()\n",
    "    \n",
    "    loss = -variational_network.evaluate_ELBO(sub_train_features, sub_train_labels)\n",
    "    loss.backward()\n",
    "    optimizer.step()\n",
    "    \n",
    "    loss_list.append(float(loss.detach().numpy()))\n",
    "    \n",
    "plt.plot(loss_list)\n",
    "plt.show()"
   ]
  },
  {
   "cell_type": "markdown",
   "metadata": {},
   "source": [
    "# Mini batching"
   ]
  },
  {
   "cell_type": "code",
   "execution_count": 47,
   "metadata": {},
   "outputs": [],
   "source": [
    "# mini batching\n",
    "batch_size = 50\n",
    "epochs = 50\n",
    "num_samples = 25\n",
    "variational_network = Variational_Network(in_size=28*28, hidden_size=50, out_size=10, num_samples=num_samples)\n",
    "optimizer = optim.Adam(variational_network.parameters(), lr=0.001)\n",
    "data_size = train_features.size()[0]\n",
    "correction_factor = data_size / batch_size"
   ]
  },
  {
   "cell_type": "markdown",
   "metadata": {},
   "source": [
    "## Train mini w/ batching"
   ]
  },
  {
   "cell_type": "code",
   "execution_count": 50,
   "metadata": {},
   "outputs": [
    {
     "name": "stdout",
     "output_type": "stream",
     "text": [
      "epoch 0 took 72. seconds: -868802.3125\n"
     ]
    },
    {
     "ename": "KeyboardInterrupt",
     "evalue": "",
     "output_type": "error",
     "traceback": [
      "\u001b[0;31m---------------------------------------------------------------------------\u001b[0m",
      "\u001b[0;31mKeyboardInterrupt\u001b[0m                         Traceback (most recent call last)",
      "\u001b[1;32m/home/marco/repos/PDL/Notebooks/variational_inference_assignment.ipynb Cell 11'\u001b[0m in \u001b[0;36m<cell line: 2>\u001b[0;34m()\u001b[0m\n\u001b[1;32m      <a href='vscode-notebook-cell:/home/marco/repos/PDL/Notebooks/variational_inference_assignment.ipynb#ch0000010?line=8'>9</a>\u001b[0m sub_train_features \u001b[39m=\u001b[39m train_features[idxs]\n\u001b[1;32m     <a href='vscode-notebook-cell:/home/marco/repos/PDL/Notebooks/variational_inference_assignment.ipynb#ch0000010?line=9'>10</a>\u001b[0m sub_train_labels \u001b[39m=\u001b[39m train_labels[idxs]\n\u001b[0;32m---> <a href='vscode-notebook-cell:/home/marco/repos/PDL/Notebooks/variational_inference_assignment.ipynb#ch0000010?line=11'>12</a>\u001b[0m loss \u001b[39m=\u001b[39m \u001b[39m-\u001b[39mvariational_network\u001b[39m.\u001b[39;49mevaluate_ELBO(sub_train_features, sub_train_labels, correction\u001b[39m=\u001b[39;49m\u001b[39m1\u001b[39;49m)\n\u001b[1;32m     <a href='vscode-notebook-cell:/home/marco/repos/PDL/Notebooks/variational_inference_assignment.ipynb#ch0000010?line=12'>13</a>\u001b[0m loss\u001b[39m.\u001b[39mbackward()\n\u001b[1;32m     <a href='vscode-notebook-cell:/home/marco/repos/PDL/Notebooks/variational_inference_assignment.ipynb#ch0000010?line=13'>14</a>\u001b[0m optimizer\u001b[39m.\u001b[39mstep()\n",
      "\u001b[1;32m/home/marco/repos/PDL/Notebooks/variational_inference_assignment.ipynb Cell 5'\u001b[0m in \u001b[0;36mVariational_Network.evaluate_ELBO\u001b[0;34m(self, features, labels, correction)\u001b[0m\n\u001b[1;32m     <a href='vscode-notebook-cell:/home/marco/repos/PDL/Notebooks/variational_inference_assignment.ipynb#ch0000005?line=43'>44</a>\u001b[0m \u001b[39mdef\u001b[39;00m \u001b[39mevaluate_ELBO\u001b[39m(\u001b[39mself\u001b[39m, features, labels, correction \u001b[39m=\u001b[39m \u001b[39m1\u001b[39m):\n\u001b[1;32m     <a href='vscode-notebook-cell:/home/marco/repos/PDL/Notebooks/variational_inference_assignment.ipynb#ch0000005?line=44'>45</a>\u001b[0m     \u001b[39m# weight_samples = self.get_weight_samples(num_samples)\u001b[39;00m\n\u001b[0;32m---> <a href='vscode-notebook-cell:/home/marco/repos/PDL/Notebooks/variational_inference_assignment.ipynb#ch0000005?line=45'>46</a>\u001b[0m     avg_log_lk \u001b[39m=\u001b[39m \u001b[39mself\u001b[39;49m\u001b[39m.\u001b[39;49mevaluate_log_likelihood(features, labels) \u001b[39m# y\u001b[39;00m\n\u001b[1;32m     <a href='vscode-notebook-cell:/home/marco/repos/PDL/Notebooks/variational_inference_assignment.ipynb#ch0000005?line=46'>47</a>\u001b[0m     q \u001b[39m=\u001b[39m torch\u001b[39m.\u001b[39mdistributions\u001b[39m.\u001b[39mnormal\u001b[39m.\u001b[39mNormal(\u001b[39mself\u001b[39m\u001b[39m.\u001b[39mlatents\u001b[39m.\u001b[39mmu_W, F\u001b[39m.\u001b[39msoftplus(\u001b[39mself\u001b[39m\u001b[39m.\u001b[39mlatents\u001b[39m.\u001b[39ms_W))\n\u001b[1;32m     <a href='vscode-notebook-cell:/home/marco/repos/PDL/Notebooks/variational_inference_assignment.ipynb#ch0000005?line=47'>48</a>\u001b[0m     \u001b[39mreturn\u001b[39;00m correction \u001b[39m*\u001b[39m (avg_log_lk \u001b[39m+\u001b[39m torch\u001b[39m.\u001b[39mmean(torch\u001b[39m.\u001b[39mdistributions\u001b[39m.\u001b[39mkl\u001b[39m.\u001b[39mkl_divergence(\u001b[39mself\u001b[39m\u001b[39m.\u001b[39mlatents\u001b[39m.\u001b[39mprior, q)))\n",
      "\u001b[1;32m/home/marco/repos/PDL/Notebooks/variational_inference_assignment.ipynb Cell 5'\u001b[0m in \u001b[0;36mVariational_Network.evaluate_log_likelihood\u001b[0;34m(self, features, labels)\u001b[0m\n\u001b[1;32m     <a href='vscode-notebook-cell:/home/marco/repos/PDL/Notebooks/variational_inference_assignment.ipynb#ch0000005?line=32'>33</a>\u001b[0m \u001b[39mdef\u001b[39;00m \u001b[39mevaluate_log_likelihood\u001b[39m(\u001b[39mself\u001b[39m, features, labels):\n\u001b[1;32m     <a href='vscode-notebook-cell:/home/marco/repos/PDL/Notebooks/variational_inference_assignment.ipynb#ch0000005?line=33'>34</a>\u001b[0m     \u001b[39m# preds = self.linear(weight_samples, features) # performs forward, which I want to do explicitly\u001b[39;00m\n\u001b[0;32m---> <a href='vscode-notebook-cell:/home/marco/repos/PDL/Notebooks/variational_inference_assignment.ipynb#ch0000005?line=34'>35</a>\u001b[0m     preds \u001b[39m=\u001b[39m \u001b[39mself\u001b[39;49m\u001b[39m.\u001b[39;49mforward(features)\n\u001b[1;32m     <a href='vscode-notebook-cell:/home/marco/repos/PDL/Notebooks/variational_inference_assignment.ipynb#ch0000005?line=35'>36</a>\u001b[0m     data_batch, param_batch, num_classes \u001b[39m=\u001b[39m preds\u001b[39m.\u001b[39mshape\n\u001b[1;32m     <a href='vscode-notebook-cell:/home/marco/repos/PDL/Notebooks/variational_inference_assignment.ipynb#ch0000005?line=36'>37</a>\u001b[0m     repeated_labels \u001b[39m=\u001b[39m torch\u001b[39m.\u001b[39mcat([y\u001b[39m.\u001b[39mrepeat((param_batch,)) \u001b[39mfor\u001b[39;00m y \u001b[39min\u001b[39;00m labels])\n",
      "\u001b[1;32m/home/marco/repos/PDL/Notebooks/variational_inference_assignment.ipynb Cell 5'\u001b[0m in \u001b[0;36mVariational_Network.forward\u001b[0;34m(self, x)\u001b[0m\n\u001b[1;32m     <a href='vscode-notebook-cell:/home/marco/repos/PDL/Notebooks/variational_inference_assignment.ipynb#ch0000005?line=20'>21</a>\u001b[0m \u001b[39mdef\u001b[39;00m \u001b[39mforward\u001b[39m(\u001b[39mself\u001b[39m, x):\n\u001b[0;32m---> <a href='vscode-notebook-cell:/home/marco/repos/PDL/Notebooks/variational_inference_assignment.ipynb#ch0000005?line=21'>22</a>\u001b[0m     \u001b[39mreturn\u001b[39;00m \u001b[39mself\u001b[39;49m\u001b[39m.\u001b[39;49mlayers(x)\n",
      "File \u001b[0;32m~/miniconda3/envs/pdl/lib/python3.9/site-packages/torch/nn/modules/module.py:1110\u001b[0m, in \u001b[0;36mModule._call_impl\u001b[0;34m(self, *input, **kwargs)\u001b[0m\n\u001b[1;32m   <a href='file:///home/marco/miniconda3/envs/pdl/lib/python3.9/site-packages/torch/nn/modules/module.py?line=1105'>1106</a>\u001b[0m \u001b[39m# If we don't have any hooks, we want to skip the rest of the logic in\u001b[39;00m\n\u001b[1;32m   <a href='file:///home/marco/miniconda3/envs/pdl/lib/python3.9/site-packages/torch/nn/modules/module.py?line=1106'>1107</a>\u001b[0m \u001b[39m# this function, and just call forward.\u001b[39;00m\n\u001b[1;32m   <a href='file:///home/marco/miniconda3/envs/pdl/lib/python3.9/site-packages/torch/nn/modules/module.py?line=1107'>1108</a>\u001b[0m \u001b[39mif\u001b[39;00m \u001b[39mnot\u001b[39;00m (\u001b[39mself\u001b[39m\u001b[39m.\u001b[39m_backward_hooks \u001b[39mor\u001b[39;00m \u001b[39mself\u001b[39m\u001b[39m.\u001b[39m_forward_hooks \u001b[39mor\u001b[39;00m \u001b[39mself\u001b[39m\u001b[39m.\u001b[39m_forward_pre_hooks \u001b[39mor\u001b[39;00m _global_backward_hooks\n\u001b[1;32m   <a href='file:///home/marco/miniconda3/envs/pdl/lib/python3.9/site-packages/torch/nn/modules/module.py?line=1108'>1109</a>\u001b[0m         \u001b[39mor\u001b[39;00m _global_forward_hooks \u001b[39mor\u001b[39;00m _global_forward_pre_hooks):\n\u001b[0;32m-> <a href='file:///home/marco/miniconda3/envs/pdl/lib/python3.9/site-packages/torch/nn/modules/module.py?line=1109'>1110</a>\u001b[0m     \u001b[39mreturn\u001b[39;00m forward_call(\u001b[39m*\u001b[39;49m\u001b[39minput\u001b[39;49m, \u001b[39m*\u001b[39;49m\u001b[39m*\u001b[39;49mkwargs)\n\u001b[1;32m   <a href='file:///home/marco/miniconda3/envs/pdl/lib/python3.9/site-packages/torch/nn/modules/module.py?line=1110'>1111</a>\u001b[0m \u001b[39m# Do not call functions when jit is used\u001b[39;00m\n\u001b[1;32m   <a href='file:///home/marco/miniconda3/envs/pdl/lib/python3.9/site-packages/torch/nn/modules/module.py?line=1111'>1112</a>\u001b[0m full_backward_hooks, non_full_backward_hooks \u001b[39m=\u001b[39m [], []\n",
      "File \u001b[0;32m~/miniconda3/envs/pdl/lib/python3.9/site-packages/torch/nn/modules/container.py:141\u001b[0m, in \u001b[0;36mSequential.forward\u001b[0;34m(self, input)\u001b[0m\n\u001b[1;32m    <a href='file:///home/marco/miniconda3/envs/pdl/lib/python3.9/site-packages/torch/nn/modules/container.py?line=138'>139</a>\u001b[0m \u001b[39mdef\u001b[39;00m \u001b[39mforward\u001b[39m(\u001b[39mself\u001b[39m, \u001b[39minput\u001b[39m):\n\u001b[1;32m    <a href='file:///home/marco/miniconda3/envs/pdl/lib/python3.9/site-packages/torch/nn/modules/container.py?line=139'>140</a>\u001b[0m     \u001b[39mfor\u001b[39;00m module \u001b[39min\u001b[39;00m \u001b[39mself\u001b[39m:\n\u001b[0;32m--> <a href='file:///home/marco/miniconda3/envs/pdl/lib/python3.9/site-packages/torch/nn/modules/container.py?line=140'>141</a>\u001b[0m         \u001b[39minput\u001b[39m \u001b[39m=\u001b[39m module(\u001b[39minput\u001b[39;49m)\n\u001b[1;32m    <a href='file:///home/marco/miniconda3/envs/pdl/lib/python3.9/site-packages/torch/nn/modules/container.py?line=141'>142</a>\u001b[0m     \u001b[39mreturn\u001b[39;00m \u001b[39minput\u001b[39m\n",
      "File \u001b[0;32m~/miniconda3/envs/pdl/lib/python3.9/site-packages/torch/nn/modules/module.py:1110\u001b[0m, in \u001b[0;36mModule._call_impl\u001b[0;34m(self, *input, **kwargs)\u001b[0m\n\u001b[1;32m   <a href='file:///home/marco/miniconda3/envs/pdl/lib/python3.9/site-packages/torch/nn/modules/module.py?line=1105'>1106</a>\u001b[0m \u001b[39m# If we don't have any hooks, we want to skip the rest of the logic in\u001b[39;00m\n\u001b[1;32m   <a href='file:///home/marco/miniconda3/envs/pdl/lib/python3.9/site-packages/torch/nn/modules/module.py?line=1106'>1107</a>\u001b[0m \u001b[39m# this function, and just call forward.\u001b[39;00m\n\u001b[1;32m   <a href='file:///home/marco/miniconda3/envs/pdl/lib/python3.9/site-packages/torch/nn/modules/module.py?line=1107'>1108</a>\u001b[0m \u001b[39mif\u001b[39;00m \u001b[39mnot\u001b[39;00m (\u001b[39mself\u001b[39m\u001b[39m.\u001b[39m_backward_hooks \u001b[39mor\u001b[39;00m \u001b[39mself\u001b[39m\u001b[39m.\u001b[39m_forward_hooks \u001b[39mor\u001b[39;00m \u001b[39mself\u001b[39m\u001b[39m.\u001b[39m_forward_pre_hooks \u001b[39mor\u001b[39;00m _global_backward_hooks\n\u001b[1;32m   <a href='file:///home/marco/miniconda3/envs/pdl/lib/python3.9/site-packages/torch/nn/modules/module.py?line=1108'>1109</a>\u001b[0m         \u001b[39mor\u001b[39;00m _global_forward_hooks \u001b[39mor\u001b[39;00m _global_forward_pre_hooks):\n\u001b[0;32m-> <a href='file:///home/marco/miniconda3/envs/pdl/lib/python3.9/site-packages/torch/nn/modules/module.py?line=1109'>1110</a>\u001b[0m     \u001b[39mreturn\u001b[39;00m forward_call(\u001b[39m*\u001b[39;49m\u001b[39minput\u001b[39;49m, \u001b[39m*\u001b[39;49m\u001b[39m*\u001b[39;49mkwargs)\n\u001b[1;32m   <a href='file:///home/marco/miniconda3/envs/pdl/lib/python3.9/site-packages/torch/nn/modules/module.py?line=1110'>1111</a>\u001b[0m \u001b[39m# Do not call functions when jit is used\u001b[39;00m\n\u001b[1;32m   <a href='file:///home/marco/miniconda3/envs/pdl/lib/python3.9/site-packages/torch/nn/modules/module.py?line=1111'>1112</a>\u001b[0m full_backward_hooks, non_full_backward_hooks \u001b[39m=\u001b[39m [], []\n",
      "\u001b[1;32m/home/marco/repos/PDL/Notebooks/variational_inference_assignment.ipynb Cell 4'\u001b[0m in \u001b[0;36mLinearVariational.forward\u001b[0;34m(self, x)\u001b[0m\n\u001b[1;32m     <a href='vscode-notebook-cell:/home/marco/repos/PDL/Notebooks/variational_inference_assignment.ipynb#ch0000003?line=25'>26</a>\u001b[0m \u001b[39mdef\u001b[39;00m \u001b[39mforward\u001b[39m(\u001b[39mself\u001b[39m, x):\n\u001b[1;32m     <a href='vscode-notebook-cell:/home/marco/repos/PDL/Notebooks/variational_inference_assignment.ipynb#ch0000003?line=26'>27</a>\u001b[0m     weight_samples \u001b[39m=\u001b[39m \u001b[39mself\u001b[39m\u001b[39m.\u001b[39mget_weight_samples(\u001b[39mself\u001b[39m\u001b[39m.\u001b[39mnum_samples)\n\u001b[0;32m---> <a href='vscode-notebook-cell:/home/marco/repos/PDL/Notebooks/variational_inference_assignment.ipynb#ch0000003?line=27'>28</a>\u001b[0m     out \u001b[39m=\u001b[39m \u001b[39mself\u001b[39;49m\u001b[39m.\u001b[39;49mlinear(weight_samples, x)\n\u001b[1;32m     <a href='vscode-notebook-cell:/home/marco/repos/PDL/Notebooks/variational_inference_assignment.ipynb#ch0000003?line=28'>29</a>\u001b[0m     \u001b[39mif\u001b[39;00m (\u001b[39mself\u001b[39m\u001b[39m.\u001b[39mmean_forward):\n\u001b[1;32m     <a href='vscode-notebook-cell:/home/marco/repos/PDL/Notebooks/variational_inference_assignment.ipynb#ch0000003?line=29'>30</a>\u001b[0m         \u001b[39mreturn\u001b[39;00m out\u001b[39m.\u001b[39mmean(\u001b[39m1\u001b[39m)\n",
      "\u001b[1;32m/home/marco/repos/PDL/Notebooks/variational_inference_assignment.ipynb Cell 4'\u001b[0m in \u001b[0;36mLinearVariational.linear\u001b[0;34m(self, weight_samples, x)\u001b[0m\n\u001b[1;32m     <a href='vscode-notebook-cell:/home/marco/repos/PDL/Notebooks/variational_inference_assignment.ipynb#ch0000003?line=22'>23</a>\u001b[0m \u001b[39mdef\u001b[39;00m \u001b[39mlinear\u001b[39m(\u001b[39mself\u001b[39m, weight_samples, x):\n\u001b[0;32m---> <a href='vscode-notebook-cell:/home/marco/repos/PDL/Notebooks/variational_inference_assignment.ipynb#ch0000003?line=23'>24</a>\u001b[0m     \u001b[39mreturn\u001b[39;00m torch\u001b[39m.\u001b[39;49mmatmul(weight_samples\u001b[39m.\u001b[39;49munsqueeze(\u001b[39m0\u001b[39;49m), x\u001b[39m.\u001b[39;49munsqueeze(\u001b[39m1\u001b[39;49m)\u001b[39m.\u001b[39;49munsqueeze(\u001b[39m3\u001b[39;49m))\u001b[39m.\u001b[39msqueeze()\n",
      "\u001b[0;31mKeyboardInterrupt\u001b[0m: "
     ]
    }
   ],
   "source": [
    "\n",
    "loss_list = []\n",
    "for epoch in range(epochs):\n",
    "    permutation = torch.randperm(data_size)\n",
    "    start = time.time()\n",
    "    \n",
    "    for i in range(0, data_size, batch_size):\n",
    "        optimizer.zero_grad()\n",
    "        idxs = permutation[i: i+batch_size]\n",
    "        sub_train_features = train_features[idxs]\n",
    "        sub_train_labels = train_labels[idxs]\n",
    "        \n",
    "        loss = -variational_network.evaluate_ELBO(sub_train_features, sub_train_labels, correction=1)\n",
    "        loss.backward()\n",
    "        optimizer.step()\n",
    "        \n",
    "    loss_list.append(float(loss.detach().numpy()))   \n",
    "    end = time.time() \n",
    "    if epoch % 5 == 0:\n",
    "        print(f\"epoch {epoch} took {str(end - start)[:3]} seconds:\", float(loss.detach().numpy()))\n",
    "        \n",
    "plt.plot(loss_list)\n",
    "plt.show()"
   ]
  },
  {
   "cell_type": "code",
   "execution_count": null,
   "metadata": {},
   "outputs": [
    {
     "name": "stdout",
     "output_type": "stream",
     "text": [
      "accuracy: 0.49\n"
     ]
    }
   ],
   "source": [
    "\n",
    "\n",
    "test_N = 100\n",
    "val_N = 60000 - test_N\n",
    "test_set, val_set = torch.utils.data.random_split(testset, [test_N, val_N])\n",
    "\n",
    "\n",
    "# Prepare test set\n",
    "test_features = torch.cat([data[0].view((1,28*28)) for data in test_set])\n",
    "test_labels = torch.Tensor([data[1] for data in test_set]).type(torch.long)\n",
    "\n",
    "preds = variational_network.compute_marginalized_predictions(test_features, num_samples=100)\n",
    "\n",
    "print(\"accuracy:\", np.sum(np.array(torch.argmax(preds,1) == test_labels))/test_labels.shape[0])"
   ]
  }
 ],
 "metadata": {
  "interpreter": {
   "hash": "9c6d30d1bb4cb219ee12510515b98691a951bcdca6cc40a23427a1d9ab956ff0"
  },
  "kernelspec": {
   "display_name": "Python 3.9.12 ('PDL')",
   "language": "python",
   "name": "python3"
  },
  "language_info": {
   "codemirror_mode": {
    "name": "ipython",
    "version": 3
   },
   "file_extension": ".py",
   "mimetype": "text/x-python",
   "name": "python",
   "nbconvert_exporter": "python",
   "pygments_lexer": "ipython3",
   "version": "3.9.12"
  },
  "orig_nbformat": 4
 },
 "nbformat": 4,
 "nbformat_minor": 2
}
