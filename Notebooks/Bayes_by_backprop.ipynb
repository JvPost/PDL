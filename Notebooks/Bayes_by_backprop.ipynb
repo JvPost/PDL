{
 "cells": [
  {
   "cell_type": "code",
   "execution_count": 1,
   "metadata": {},
   "outputs": [],
   "source": [
    "import numpy as np\n",
    "import torch\n",
    "from torch import nn\n",
    "from sklearn import datasets\n",
    "import matplotlib.pyplot as plt"
   ]
  },
  {
   "cell_type": "code",
   "execution_count": 2,
   "metadata": {},
   "outputs": [
    {
     "data": {
      "text/plain": [
       "<matplotlib.collections.PathCollection at 0x7f33e22141c0>"
      ]
     },
     "execution_count": 2,
     "metadata": {},
     "output_type": "execute_result"
    },
    {
     "data": {
      "image/png": "[encoded data removed]",
      "text/plain": [
       "<Figure size 432x288 with 1 Axes>"
      ]
     },
     "metadata": {
      "needs_background": "light"
     },
     "output_type": "display_data"
    }
   ],
   "source": [
    "w0 = 0.125\n",
    "b0 = 5.\n",
    "x_range = [-20, 60]\n",
    "\n",
    "def load_dataset(n=150, n_tst=150):\n",
    "    np.random.seed(43)\n",
    "\n",
    "    def s(x):\n",
    "        g = (x - x_range[0]) / (x_range[1] - x_range[0])\n",
    "        return 3 * (0.25 + g**2.)\n",
    "\n",
    "    x = (x_range[1] - x_range[0]) * np.random.rand(n) + x_range[0]\n",
    "    eps = np.random.randn(n) * s(x)\n",
    "    y = (w0 * x * (1. + np.sin(x)) + b0) + eps\n",
    "    y = (y - y.mean()) / y.std()\n",
    "    idx = np.argsort(x)\n",
    "    x = x[idx]\n",
    "    y = y[idx]\n",
    "    return y[:, None], x[:, None]\n",
    "\n",
    "y, x = load_dataset()\n",
    "\n",
    "\n",
    "X = torch.tensor(x, dtype=torch.float)\n",
    "Y = torch.tensor(y, dtype=torch.float)\n",
    "\n",
    "plt.scatter(x, y)"
   ]
  },
  {
   "cell_type": "code",
   "execution_count": 12,
   "metadata": {},
   "outputs": [],
   "source": [
    "class LinearVariational(nn.Module):\n",
    "    \"\"\"\n",
    "    Mean field approximation of nn.Linear\n",
    "    \"\"\"\n",
    "    def __init__(self, in_features, out_features, parent, n_batches, bias=True):\n",
    "        super().__init__()\n",
    "        self.in_features = in_features\n",
    "        self.out_features = out_features\n",
    "        self.include_bias = bias        \n",
    "        self.parent = parent\n",
    "        self.n_batches = n_batches\n",
    "        \n",
    "        if getattr(parent, 'accumulated_kl_div', None) is None:\n",
    "            parent.accumulated_kl_div = 0\n",
    "            \n",
    "        # Initialize the variational parameters.\n",
    "        # 𝑄(𝑤)=N(𝜇_𝜃,𝜎2_𝜃)\n",
    "        # Do some random initialization with 𝜎=0.001\n",
    "        self.w_mu = nn.Parameter(\n",
    "            torch.FloatTensor(in_features, out_features).normal_(mean=0, std=0.001)\n",
    "        )\n",
    "        # proxy for variance\n",
    "        # log(1 + exp(ρ))◦ eps\n",
    "        self.w_p = nn.Parameter(\n",
    "            torch.FloatTensor(in_features, out_features).normal_(mean=-2.5, std=0.001)\n",
    "        )\n",
    "        if self.include_bias:\n",
    "            self.b_mu = nn.Parameter(\n",
    "                torch.zeros(out_features)\n",
    "            )\n",
    "            # proxy for variance\n",
    "            self.b_p = nn.Parameter(\n",
    "                torch.zeros(out_features)\n",
    "            )\n",
    "        \n",
    "    def reparameterize(self, mu, p):\n",
    "        sigma = torch.log(1 + torch.exp(p)) \n",
    "        eps = torch.randn_like(sigma)\n",
    "        return mu + (eps * sigma)\n",
    "    \n",
    "    def kl_divergence(self, z, mu_theta, p_theta, prior_sd=1):\n",
    "        log_prior = dist.Normal(0, prior_sd).log_prob(z) \n",
    "        log_p_q = dist.Normal(mu_theta, torch.log(1 + torch.exp(p_theta))).log_prob(z) \n",
    "        return (log_p_q - log_prior).sum() / self.n_batches\n",
    "\n",
    "    def forward(self, x):\n",
    "        w = self.reparameterize(self.w_mu, self.w_p)\n",
    "        \n",
    "        if self.include_bias:\n",
    "            b = self.reparameterize(self.b_mu, self.b_p)\n",
    "        else:\n",
    "            b = 0\n",
    "            \n",
    "        z = x @ w + b\n",
    "        \n",
    "        self.parent.accumulated_kl_div += self.kl_divergence(w, \n",
    "                                                             self.w_mu,\n",
    "                                                             self.w_p, \n",
    "                                                             )\n",
    "        if self.include_bias:\n",
    "            self.parent.accumulated_kl_div += self.kl_divergence(b, \n",
    "                                                                 self.b_mu, \n",
    "                                                                 self.b_p,\n",
    "                                                                 )\n",
    "        return z\n",
    "            \n"
   ]
  },
  {
   "cell_type": "code",
   "execution_count": 13,
   "metadata": {},
   "outputs": [],
   "source": [
    "class KL:\n",
    "    accumulated_kl_div = 0\n",
    "\n",
    "class Model(nn.Module):\n",
    "    def __init__(self, in_size, hidden_size, out_size, n_batches):\n",
    "        super().__init__()\n",
    "        self.kl_loss = KL\n",
    "        \n",
    "        self.layers = nn.Sequential(\n",
    "            LinearVariational(in_size, hidden_size, self.kl_loss, n_batches),\n",
    "            nn.ReLU(),\n",
    "            LinearVariational(hidden_size, hidden_size, self.kl_loss, n_batches),\n",
    "            nn.ReLU(),\n",
    "            LinearVariational(hidden_size, out_size, self.kl_loss, n_batches)\n",
    "        )\n",
    "    \n",
    "    @property\n",
    "    def accumulated_kl_div(self):\n",
    "        return self.kl_loss.accumulated_kl_div\n",
    "    \n",
    "    def reset_kl_div(self):\n",
    "        self.kl_loss.accumulated_kl_div = 0\n",
    "            \n",
    "    def forward(self, x):\n",
    "        return self.layers(x)"
   ]
  },
  {
   "cell_type": "code",
   "execution_count": 14,
   "metadata": {},
   "outputs": [
    {
     "ename": "NameError",
     "evalue": "name 'dist' is not defined",
     "output_type": "error",
     "traceback": [
      "\u001b[0;31m---------------------------------------------------------------------------\u001b[0m",
      "\u001b[0;31mNameError\u001b[0m                                 Traceback (most recent call last)",
      "\u001b[1;32m/home/marco/repos/pdl/Bayes_by_backprop.ipynb Cell 5'\u001b[0m in \u001b[0;36m<cell line: 13>\u001b[0;34m()\u001b[0m\n\u001b[1;32m     <a href='vscode-notebook-cell:/home/marco/repos/pdl/Bayes_by_backprop.ipynb#ch0000004?line=12'>13</a>\u001b[0m \u001b[39mfor\u001b[39;00m epoch \u001b[39min\u001b[39;00m \u001b[39mrange\u001b[39m(epochs):\n\u001b[1;32m     <a href='vscode-notebook-cell:/home/marco/repos/pdl/Bayes_by_backprop.ipynb#ch0000004?line=13'>14</a>\u001b[0m     optim\u001b[39m.\u001b[39mzero_grad()\n\u001b[0;32m---> <a href='vscode-notebook-cell:/home/marco/repos/pdl/Bayes_by_backprop.ipynb#ch0000004?line=14'>15</a>\u001b[0m     y_pred \u001b[39m=\u001b[39m m(X)\n\u001b[1;32m     <a href='vscode-notebook-cell:/home/marco/repos/pdl/Bayes_by_backprop.ipynb#ch0000004?line=15'>16</a>\u001b[0m     loss \u001b[39m=\u001b[39m det_loss(y_pred, Y, m)\n\u001b[1;32m     <a href='vscode-notebook-cell:/home/marco/repos/pdl/Bayes_by_backprop.ipynb#ch0000004?line=16'>17</a>\u001b[0m     loss\u001b[39m.\u001b[39mbackward()\n",
      "File \u001b[0;32m~/miniconda3/envs/pdl/lib/python3.9/site-packages/torch/nn/modules/module.py:1110\u001b[0m, in \u001b[0;36mModule._call_impl\u001b[0;34m(self, *input, **kwargs)\u001b[0m\n\u001b[1;32m   <a href='file:///home/marco/miniconda3/envs/pdl/lib/python3.9/site-packages/torch/nn/modules/module.py?line=1105'>1106</a>\u001b[0m \u001b[39m# If we don't have any hooks, we want to skip the rest of the logic in\u001b[39;00m\n\u001b[1;32m   <a href='file:///home/marco/miniconda3/envs/pdl/lib/python3.9/site-packages/torch/nn/modules/module.py?line=1106'>1107</a>\u001b[0m \u001b[39m# this function, and just call forward.\u001b[39;00m\n\u001b[1;32m   <a href='file:///home/marco/miniconda3/envs/pdl/lib/python3.9/site-packages/torch/nn/modules/module.py?line=1107'>1108</a>\u001b[0m \u001b[39mif\u001b[39;00m \u001b[39mnot\u001b[39;00m (\u001b[39mself\u001b[39m\u001b[39m.\u001b[39m_backward_hooks \u001b[39mor\u001b[39;00m \u001b[39mself\u001b[39m\u001b[39m.\u001b[39m_forward_hooks \u001b[39mor\u001b[39;00m \u001b[39mself\u001b[39m\u001b[39m.\u001b[39m_forward_pre_hooks \u001b[39mor\u001b[39;00m _global_backward_hooks\n\u001b[1;32m   <a href='file:///home/marco/miniconda3/envs/pdl/lib/python3.9/site-packages/torch/nn/modules/module.py?line=1108'>1109</a>\u001b[0m         \u001b[39mor\u001b[39;00m _global_forward_hooks \u001b[39mor\u001b[39;00m _global_forward_pre_hooks):\n\u001b[0;32m-> <a href='file:///home/marco/miniconda3/envs/pdl/lib/python3.9/site-packages/torch/nn/modules/module.py?line=1109'>1110</a>\u001b[0m     \u001b[39mreturn\u001b[39;00m forward_call(\u001b[39m*\u001b[39;49m\u001b[39minput\u001b[39;49m, \u001b[39m*\u001b[39;49m\u001b[39m*\u001b[39;49mkwargs)\n\u001b[1;32m   <a href='file:///home/marco/miniconda3/envs/pdl/lib/python3.9/site-packages/torch/nn/modules/module.py?line=1110'>1111</a>\u001b[0m \u001b[39m# Do not call functions when jit is used\u001b[39;00m\n\u001b[1;32m   <a href='file:///home/marco/miniconda3/envs/pdl/lib/python3.9/site-packages/torch/nn/modules/module.py?line=1111'>1112</a>\u001b[0m full_backward_hooks, non_full_backward_hooks \u001b[39m=\u001b[39m [], []\n",
      "\u001b[1;32m/home/marco/repos/pdl/Bayes_by_backprop.ipynb Cell 4'\u001b[0m in \u001b[0;36mModel.forward\u001b[0;34m(self, x)\u001b[0m\n\u001b[1;32m     <a href='vscode-notebook-cell:/home/marco/repos/pdl/Bayes_by_backprop.ipynb#ch0000003?line=23'>24</a>\u001b[0m \u001b[39mdef\u001b[39;00m \u001b[39mforward\u001b[39m(\u001b[39mself\u001b[39m, x):\n\u001b[0;32m---> <a href='vscode-notebook-cell:/home/marco/repos/pdl/Bayes_by_backprop.ipynb#ch0000003?line=24'>25</a>\u001b[0m     \u001b[39mreturn\u001b[39;00m \u001b[39mself\u001b[39;49m\u001b[39m.\u001b[39;49mlayers(x)\n",
      "File \u001b[0;32m~/miniconda3/envs/pdl/lib/python3.9/site-packages/torch/nn/modules/module.py:1110\u001b[0m, in \u001b[0;36mModule._call_impl\u001b[0;34m(self, *input, **kwargs)\u001b[0m\n\u001b[1;32m   <a href='file:///home/marco/miniconda3/envs/pdl/lib/python3.9/site-packages/torch/nn/modules/module.py?line=1105'>1106</a>\u001b[0m \u001b[39m# If we don't have any hooks, we want to skip the rest of the logic in\u001b[39;00m\n\u001b[1;32m   <a href='file:///home/marco/miniconda3/envs/pdl/lib/python3.9/site-packages/torch/nn/modules/module.py?line=1106'>1107</a>\u001b[0m \u001b[39m# this function, and just call forward.\u001b[39;00m\n\u001b[1;32m   <a href='file:///home/marco/miniconda3/envs/pdl/lib/python3.9/site-packages/torch/nn/modules/module.py?line=1107'>1108</a>\u001b[0m \u001b[39mif\u001b[39;00m \u001b[39mnot\u001b[39;00m (\u001b[39mself\u001b[39m\u001b[39m.\u001b[39m_backward_hooks \u001b[39mor\u001b[39;00m \u001b[39mself\u001b[39m\u001b[39m.\u001b[39m_forward_hooks \u001b[39mor\u001b[39;00m \u001b[39mself\u001b[39m\u001b[39m.\u001b[39m_forward_pre_hooks \u001b[39mor\u001b[39;00m _global_backward_hooks\n\u001b[1;32m   <a href='file:///home/marco/miniconda3/envs/pdl/lib/python3.9/site-packages/torch/nn/modules/module.py?line=1108'>1109</a>\u001b[0m         \u001b[39mor\u001b[39;00m _global_forward_hooks \u001b[39mor\u001b[39;00m _global_forward_pre_hooks):\n\u001b[0;32m-> <a href='file:///home/marco/miniconda3/envs/pdl/lib/python3.9/site-packages/torch/nn/modules/module.py?line=1109'>1110</a>\u001b[0m     \u001b[39mreturn\u001b[39;00m forward_call(\u001b[39m*\u001b[39;49m\u001b[39minput\u001b[39;49m, \u001b[39m*\u001b[39;49m\u001b[39m*\u001b[39;49mkwargs)\n\u001b[1;32m   <a href='file:///home/marco/miniconda3/envs/pdl/lib/python3.9/site-packages/torch/nn/modules/module.py?line=1110'>1111</a>\u001b[0m \u001b[39m# Do not call functions when jit is used\u001b[39;00m\n\u001b[1;32m   <a href='file:///home/marco/miniconda3/envs/pdl/lib/python3.9/site-packages/torch/nn/modules/module.py?line=1111'>1112</a>\u001b[0m full_backward_hooks, non_full_backward_hooks \u001b[39m=\u001b[39m [], []\n",
      "File \u001b[0;32m~/miniconda3/envs/pdl/lib/python3.9/site-packages/torch/nn/modules/container.py:141\u001b[0m, in \u001b[0;36mSequential.forward\u001b[0;34m(self, input)\u001b[0m\n\u001b[1;32m    <a href='file:///home/marco/miniconda3/envs/pdl/lib/python3.9/site-packages/torch/nn/modules/container.py?line=138'>139</a>\u001b[0m \u001b[39mdef\u001b[39;00m \u001b[39mforward\u001b[39m(\u001b[39mself\u001b[39m, \u001b[39minput\u001b[39m):\n\u001b[1;32m    <a href='file:///home/marco/miniconda3/envs/pdl/lib/python3.9/site-packages/torch/nn/modules/container.py?line=139'>140</a>\u001b[0m     \u001b[39mfor\u001b[39;00m module \u001b[39min\u001b[39;00m \u001b[39mself\u001b[39m:\n\u001b[0;32m--> <a href='file:///home/marco/miniconda3/envs/pdl/lib/python3.9/site-packages/torch/nn/modules/container.py?line=140'>141</a>\u001b[0m         \u001b[39minput\u001b[39m \u001b[39m=\u001b[39m module(\u001b[39minput\u001b[39;49m)\n\u001b[1;32m    <a href='file:///home/marco/miniconda3/envs/pdl/lib/python3.9/site-packages/torch/nn/modules/container.py?line=141'>142</a>\u001b[0m     \u001b[39mreturn\u001b[39;00m \u001b[39minput\u001b[39m\n",
      "File \u001b[0;32m~/miniconda3/envs/pdl/lib/python3.9/site-packages/torch/nn/modules/module.py:1110\u001b[0m, in \u001b[0;36mModule._call_impl\u001b[0;34m(self, *input, **kwargs)\u001b[0m\n\u001b[1;32m   <a href='file:///home/marco/miniconda3/envs/pdl/lib/python3.9/site-packages/torch/nn/modules/module.py?line=1105'>1106</a>\u001b[0m \u001b[39m# If we don't have any hooks, we want to skip the rest of the logic in\u001b[39;00m\n\u001b[1;32m   <a href='file:///home/marco/miniconda3/envs/pdl/lib/python3.9/site-packages/torch/nn/modules/module.py?line=1106'>1107</a>\u001b[0m \u001b[39m# this function, and just call forward.\u001b[39;00m\n\u001b[1;32m   <a href='file:///home/marco/miniconda3/envs/pdl/lib/python3.9/site-packages/torch/nn/modules/module.py?line=1107'>1108</a>\u001b[0m \u001b[39mif\u001b[39;00m \u001b[39mnot\u001b[39;00m (\u001b[39mself\u001b[39m\u001b[39m.\u001b[39m_backward_hooks \u001b[39mor\u001b[39;00m \u001b[39mself\u001b[39m\u001b[39m.\u001b[39m_forward_hooks \u001b[39mor\u001b[39;00m \u001b[39mself\u001b[39m\u001b[39m.\u001b[39m_forward_pre_hooks \u001b[39mor\u001b[39;00m _global_backward_hooks\n\u001b[1;32m   <a href='file:///home/marco/miniconda3/envs/pdl/lib/python3.9/site-packages/torch/nn/modules/module.py?line=1108'>1109</a>\u001b[0m         \u001b[39mor\u001b[39;00m _global_forward_hooks \u001b[39mor\u001b[39;00m _global_forward_pre_hooks):\n\u001b[0;32m-> <a href='file:///home/marco/miniconda3/envs/pdl/lib/python3.9/site-packages/torch/nn/modules/module.py?line=1109'>1110</a>\u001b[0m     \u001b[39mreturn\u001b[39;00m forward_call(\u001b[39m*\u001b[39;49m\u001b[39minput\u001b[39;49m, \u001b[39m*\u001b[39;49m\u001b[39m*\u001b[39;49mkwargs)\n\u001b[1;32m   <a href='file:///home/marco/miniconda3/envs/pdl/lib/python3.9/site-packages/torch/nn/modules/module.py?line=1110'>1111</a>\u001b[0m \u001b[39m# Do not call functions when jit is used\u001b[39;00m\n\u001b[1;32m   <a href='file:///home/marco/miniconda3/envs/pdl/lib/python3.9/site-packages/torch/nn/modules/module.py?line=1111'>1112</a>\u001b[0m full_backward_hooks, non_full_backward_hooks \u001b[39m=\u001b[39m [], []\n",
      "\u001b[1;32m/home/marco/repos/pdl/Bayes_by_backprop.ipynb Cell 3'\u001b[0m in \u001b[0;36mLinearVariational.forward\u001b[0;34m(self, x)\u001b[0m\n\u001b[1;32m     <a href='vscode-notebook-cell:/home/marco/repos/pdl/Bayes_by_backprop.ipynb#ch0000001?line=51'>52</a>\u001b[0m     b \u001b[39m=\u001b[39m \u001b[39m0\u001b[39m\n\u001b[1;32m     <a href='vscode-notebook-cell:/home/marco/repos/pdl/Bayes_by_backprop.ipynb#ch0000001?line=53'>54</a>\u001b[0m z \u001b[39m=\u001b[39m x \u001b[39m@\u001b[39m w \u001b[39m+\u001b[39m b\n\u001b[0;32m---> <a href='vscode-notebook-cell:/home/marco/repos/pdl/Bayes_by_backprop.ipynb#ch0000001?line=55'>56</a>\u001b[0m \u001b[39mself\u001b[39m\u001b[39m.\u001b[39mparent\u001b[39m.\u001b[39maccumulated_kl_div \u001b[39m+\u001b[39m\u001b[39m=\u001b[39m \u001b[39mself\u001b[39;49m\u001b[39m.\u001b[39;49mkl_divergence(w, \n\u001b[1;32m     <a href='vscode-notebook-cell:/home/marco/repos/pdl/Bayes_by_backprop.ipynb#ch0000001?line=56'>57</a>\u001b[0m                                                      \u001b[39mself\u001b[39;49m\u001b[39m.\u001b[39;49mw_mu,\n\u001b[1;32m     <a href='vscode-notebook-cell:/home/marco/repos/pdl/Bayes_by_backprop.ipynb#ch0000001?line=57'>58</a>\u001b[0m                                                      \u001b[39mself\u001b[39;49m\u001b[39m.\u001b[39;49mw_p, \n\u001b[1;32m     <a href='vscode-notebook-cell:/home/marco/repos/pdl/Bayes_by_backprop.ipynb#ch0000001?line=58'>59</a>\u001b[0m                                                      )\n\u001b[1;32m     <a href='vscode-notebook-cell:/home/marco/repos/pdl/Bayes_by_backprop.ipynb#ch0000001?line=59'>60</a>\u001b[0m \u001b[39mif\u001b[39;00m \u001b[39mself\u001b[39m\u001b[39m.\u001b[39minclude_bias:\n\u001b[1;32m     <a href='vscode-notebook-cell:/home/marco/repos/pdl/Bayes_by_backprop.ipynb#ch0000001?line=60'>61</a>\u001b[0m     \u001b[39mself\u001b[39m\u001b[39m.\u001b[39mparent\u001b[39m.\u001b[39maccumulated_kl_div \u001b[39m+\u001b[39m\u001b[39m=\u001b[39m \u001b[39mself\u001b[39m\u001b[39m.\u001b[39mkl_divergence(b, \n\u001b[1;32m     <a href='vscode-notebook-cell:/home/marco/repos/pdl/Bayes_by_backprop.ipynb#ch0000001?line=61'>62</a>\u001b[0m                                                          \u001b[39mself\u001b[39m\u001b[39m.\u001b[39mb_mu, \n\u001b[1;32m     <a href='vscode-notebook-cell:/home/marco/repos/pdl/Bayes_by_backprop.ipynb#ch0000001?line=62'>63</a>\u001b[0m                                                          \u001b[39mself\u001b[39m\u001b[39m.\u001b[39mb_p,\n\u001b[1;32m     <a href='vscode-notebook-cell:/home/marco/repos/pdl/Bayes_by_backprop.ipynb#ch0000001?line=63'>64</a>\u001b[0m                                                          )\n",
      "\u001b[1;32m/home/marco/repos/pdl/Bayes_by_backprop.ipynb Cell 3'\u001b[0m in \u001b[0;36mLinearVariational.kl_divergence\u001b[0;34m(self, z, mu_theta, p_theta, prior_sd)\u001b[0m\n\u001b[1;32m     <a href='vscode-notebook-cell:/home/marco/repos/pdl/Bayes_by_backprop.ipynb#ch0000001?line=40'>41</a>\u001b[0m \u001b[39mdef\u001b[39;00m \u001b[39mkl_divergence\u001b[39m(\u001b[39mself\u001b[39m, z, mu_theta, p_theta, prior_sd\u001b[39m=\u001b[39m\u001b[39m1\u001b[39m):\n\u001b[0;32m---> <a href='vscode-notebook-cell:/home/marco/repos/pdl/Bayes_by_backprop.ipynb#ch0000001?line=41'>42</a>\u001b[0m     log_prior \u001b[39m=\u001b[39m dist\u001b[39m.\u001b[39mNormal(\u001b[39m0\u001b[39m, prior_sd)\u001b[39m.\u001b[39mlog_prob(z) \n\u001b[1;32m     <a href='vscode-notebook-cell:/home/marco/repos/pdl/Bayes_by_backprop.ipynb#ch0000001?line=42'>43</a>\u001b[0m     log_p_q \u001b[39m=\u001b[39m dist\u001b[39m.\u001b[39mNormal(mu_theta, torch\u001b[39m.\u001b[39mlog(\u001b[39m1\u001b[39m \u001b[39m+\u001b[39m torch\u001b[39m.\u001b[39mexp(p_theta)))\u001b[39m.\u001b[39mlog_prob(z) \n\u001b[1;32m     <a href='vscode-notebook-cell:/home/marco/repos/pdl/Bayes_by_backprop.ipynb#ch0000001?line=43'>44</a>\u001b[0m     \u001b[39mreturn\u001b[39;00m (log_p_q \u001b[39m-\u001b[39m log_prior)\u001b[39m.\u001b[39msum() \u001b[39m/\u001b[39m \u001b[39mself\u001b[39m\u001b[39m.\u001b[39mn_batches\n",
      "\u001b[0;31mNameError\u001b[0m: name 'dist' is not defined"
     ]
    }
   ],
   "source": [
    "epochs = 2000\n",
    "\n",
    "def det_loss(y, y_pred, model):\n",
    "    batch_size = y.shape[0]\n",
    "    reconstruction_error = -dist.Normal(y_pred, .1).log_prob(y).sum()\n",
    "    kl = model.accumulated_kl_div\n",
    "    model.reset_kl_div()\n",
    "    return reconstruction_error + kl\n",
    "\n",
    "m = Model(1, 20, 1, n_batches=1)\n",
    "optim = torch.optim.Adam(m.parameters(), lr=0.01)\n",
    "\n",
    "for epoch in range(epochs):\n",
    "    optim.zero_grad()\n",
    "    y_pred = m(X)\n",
    "    loss = det_loss(y_pred, Y, m)\n",
    "    loss.backward()\n",
    "    optim.step()"
   ]
  },
  {
   "cell_type": "code",
   "execution_count": null,
   "metadata": {},
   "outputs": [],
   "source": []
  }
 ],
 "metadata": {
  "interpreter": {
   "hash": "4d4dce9d7226808f190f2bf308d6fa82873ce04af46d0901c689654b9cd5f0c8"
  },
  "kernelspec": {
   "display_name": "Python 3.9.12 ('pdl')",
   "language": "python",
   "name": "python3"
  },
  "language_info": {
   "codemirror_mode": {
    "name": "ipython",
    "version": 3
   },
   "file_extension": ".py",
   "mimetype": "text/x-python",
   "name": "python",
   "nbconvert_exporter": "python",
   "pygments_lexer": "ipython3",
   "version": "3.9.12"
  },
  "orig_nbformat": 4
 },
 "nbformat": 4,
 "nbformat_minor": 2
}
