{
  "cells": [
    {
      "cell_type": "markdown",
      "metadata": {
        "id": "lsNUpsF8SVUR"
      },
      "source": [
        "# 0a: Tractability in univariate Bayesian inference - Exercise"
      ]
    },
    {
      "cell_type": "markdown",
      "metadata": {
        "id": "8bomatNNd1cI"
      },
      "source": [
        "## Section 1.2 - Exercise\n",
        "\n",
        "With the Lagrangian multipliers you can solve functions with constraints as if you were optimizing a single function. In this case, we want to find $max -\\sum_xp(x)\\log p(x)$, but $p(x$ must be a valid probability function, so we must add the constraint $\\sum_x p(x) = 1$, or equivalently $\\sum p(x) - 1 = 0$.\n",
        "With the Lagranfian multipliers method you can add the constraints to the main equation, multiplied by a new variable $\\lambda$, one for each constraint, and optimize all together. In this case we have, for a discrete random variable $X$ with $N$ possible values:\n",
        "\n",
        "$$\n",
        "L(p(x),\\lambda) = -\\sum_x p(x)\\log p(x) + \\lambda (\\sum_x p(x) -1)\n",
        "$$\n",
        "\n",
        "Now we can take the derivarie both with respect to $p(x)$ and $\\lambda$ to find the maximum of the function:\n",
        "\n",
        "$$\n",
        "\\frac{dL}{dp(x)} = 0 = -\\log p(x) - 1 + \\lambda → p(x)=e^{-1 + \\lambda}\\\\\n",
        "\\frac{dL}{d\\lambda} = 0 = \\sum_x p(x) -1 → \\sum_x p(x) = 1\n",
        "$$\n",
        "Putting the two results together, we get:\n",
        "$$\n",
        "\\sum_x e^{-1+\\lambda} = 1 → N e^{-1 + \\lambda} = 1 → p(x) = \\frac{1}{N} ∀ x \\in X\n",
        "$$"
      ]
    },
    {
      "cell_type": "markdown",
      "metadata": {
        "id": "IWx1_Rbfh5cL"
      },
      "source": [
        "## Section 1.2.1 - Exercise\n",
        "\n",
        "See Proof 1 at [this link](https://en.wikipedia.org/wiki/Jensen%27s_inequality#Proof_1_(finite_form)).\n"
      ]
    },
    {
      "cell_type": "markdown",
      "metadata": {
        "id": "Rweu5A5_Siq8"
      },
      "source": [
        "## Section 1.4.2 - Exercise 1"
      ]
    },
    {
      "cell_type": "markdown",
      "metadata": {
        "id": "iv6NWkIXRk-M"
      },
      "source": [
        "I have changed a bit the numbers from the lecture pdf, but the whole procedure remains the same. In particular, I use $a=3$ degrees/mm, so that $h=\\frac{T}{a}$, and the standard deviation for the likelihood is 1mm instead of 0.01."
      ]
    },
    {
      "cell_type": "markdown",
      "metadata": {
        "id": "j1RvOBD7SwHw"
      },
      "source": [
        "Here we have to compute the quantized posterior. The likelihood has the form (in the temperature space) $\\mathcal{N}(a*h; T, (1*a)^2$), while the prior is $\\mathcal{N}(T; 37,4^2)$.\n",
        "\n",
        "Note that in this problem we have only one observation $h$, but in a more generic case, with several observations $h_i$, the likelihood would be $$\n",
        "\\prod_i \\mathcal{N}(a*h_i; T, (1*a)^2) $$"
      ]
    },
    {
      "cell_type": "code",
      "execution_count": 1,
      "metadata": {
        "id": "JUH_zg-wZahy"
      },
      "outputs": [],
      "source": [
        "import scipy\n",
        "import numpy as np\n",
        "import matplotlib.pyplot as plt\n",
        "from sklearn.metrics import auc"
      ]
    },
    {
      "cell_type": "code",
      "execution_count": 2,
      "metadata": {
        "id": "zOXfOlYK0Kvq"
      },
      "outputs": [],
      "source": [
        "def gaussian_pdf(x,mu,s):\n",
        "  return np.exp(-(x-mu)**2/(2*(s**2)))/np.sqrt(2*np.pi*s**2)"
      ]
    },
    {
      "cell_type": "markdown",
      "metadata": {
        "id": "rdPmO1qaY0O4"
      },
      "source": [
        "First, we have to compute the evidence as in eq 57 (don't forget to multiply by d_t!)\n"
      ]
    },
    {
      "cell_type": "code",
      "execution_count": 6,
      "metadata": {
        "id": "AvDlOTVnSzc_"
      },
      "outputs": [
        {
          "data": {
            "text/plain": [
              "[<matplotlib.lines.Line2D at 0x7f43b7309a00>]"
            ]
          },
          "execution_count": 6,
          "metadata": {},
          "output_type": "execute_result"
        },
        {
          "data": {
            "image/png": "[encoded data removed]",
            "text/plain": [
              "<Figure size 432x288 with 1 Axes>"
            ]
          },
          "metadata": {
            "needs_background": "light"
          },
          "output_type": "display_data"
        }
      ],
      "source": [
        "d_t = 0.5\n",
        "t_range = np.arange(-30, 50.5, d_t)\n",
        "prior = gaussian_pdf(t_range, 37, 4)\n",
        "measurement = gaussian_pdf(13*3, t_range, 1*3)\n",
        "\n",
        "\n",
        "evidence = np.sum(measurement * prior * d_t)\n",
        "\n",
        "plt.plot(measurement)"
      ]
    },
    {
      "cell_type": "markdown",
      "metadata": {
        "id": "7utn9pChZFBe"
      },
      "source": [
        "Now we can compute the likelihood * prior for a range of temperatures. Note that we don't have to use the same range used for the evidence. Finally we can divide by the evidence and obtain the posterior distribution"
      ]
    },
    {
      "cell_type": "code",
      "execution_count": 95,
      "metadata": {
        "id": "eyEV-inBTFcS"
      },
      "outputs": [],
      "source": [
        "d_t = 0.05\n",
        "z_range = np.arange(0,75, d_t)\n",
        "likelihood = gaussian_pdf(13*3, z_range, 1*3)\n",
        "prior = gaussian_pdf(z_range, 37, 4)\n",
        "posterior = likelihood * prior / evidence"
      ]
    },
    {
      "cell_type": "code",
      "execution_count": 96,
      "metadata": {
        "colab": {
          "base_uri": "https://localhost:8080/",
          "height": 282
        },
        "id": "B6ME4DEbUX-v",
        "outputId": "efafd2c2-59d2-4961-a493-c015fa0cd457"
      },
      "outputs": [
        {
          "data": {
            "text/plain": [
              "<matplotlib.collections.PolyCollection at 0x7f55b0b22d90>"
            ]
          },
          "execution_count": 96,
          "metadata": {},
          "output_type": "execute_result"
        },
        {
          "data": {
            "image/png": "[encoded data removed]",
            "text/plain": [
              "<Figure size 432x288 with 1 Axes>"
            ]
          },
          "metadata": {
            "needs_background": "light"
          },
          "output_type": "display_data"
        }
      ],
      "source": [
        "plt.plot(z_range, posterior)\n",
        "plt.fill_between(z_range, 0, posterior, alpha=0.5)"
      ]
    },
    {
      "cell_type": "markdown",
      "metadata": {
        "id": "NIy-eVq-ZdAw"
      },
      "source": [
        "As a sanity check, we can make sure that the area under the posterior sums up to one."
      ]
    },
    {
      "cell_type": "code",
      "execution_count": 97,
      "metadata": {
        "colab": {
          "base_uri": "https://localhost:8080/"
        },
        "id": "rHFxSnm4UgSh",
        "outputId": "ce8053eb-4108-4008-f187-c8cc9038b7e9"
      },
      "outputs": [
        {
          "data": {
            "text/plain": [
              "1.0000002919421878"
            ]
          },
          "execution_count": 97,
          "metadata": {},
          "output_type": "execute_result"
        }
      ],
      "source": [
        "auc(z_range, posterior)"
      ]
    },
    {
      "cell_type": "code",
      "execution_count": 98,
      "metadata": {
        "colab": {
          "base_uri": "https://localhost:8080/"
        },
        "id": "R-SiwBP1cHt4",
        "outputId": "b9f1b860-3e74-4ddc-ee8d-4d3d6e62d6f2"
      },
      "outputs": [
        {
          "data": {
            "text/plain": [
              "0.16622022705976794"
            ]
          },
          "execution_count": 98,
          "metadata": {},
          "output_type": "execute_result"
        }
      ],
      "source": [
        "np.max(posterior)"
      ]
    },
    {
      "cell_type": "markdown",
      "metadata": {
        "id": "k2oxbFr2zsyj"
      },
      "source": [
        "## Section 1.4.2 - Exercise 2"
      ]
    },
    {
      "cell_type": "markdown",
      "metadata": {
        "id": "6KAgyceTWFi-"
      },
      "source": [
        "Here I also changed the fact that 42 is in degrees instead of mm.\n",
        "\n",
        "The difference from before is that the likelihood now is a mixture distribution between a Gaussian and a Delta:\n",
        "$$P(h\\mid T) = \\mathcal{N}(a*h; T, (1*a)^2)* 0.5 + \\delta(a*h;42) * 0.5$$"
      ]
    },
    {
      "cell_type": "code",
      "execution_count": 7,
      "metadata": {
        "id": "EfVY2Gei13ZK"
      },
      "outputs": [],
      "source": [
        "def delta_42(x):\n",
        "    return np.where(x==42, 1, 0)\n",
        "\n"
      ]
    },
    {
      "cell_type": "markdown",
      "metadata": {
        "id": "lRiXSAuKbOQ5"
      },
      "source": [
        "Let's first solve in the case where our friend tells 42 (degrees)."
      ]
    },
    {
      "cell_type": "code",
      "execution_count": 80,
      "metadata": {
        "id": "Mk6ERzXRkobH"
      },
      "outputs": [],
      "source": [
        "d_t = 0.5\n",
        "t_range = np.arange(-30, 50.5, d_t)\n",
        "evidence = np.sum((gaussian_pdf(42, t_range, 1*3) * 0.5 + delta_42(42) * 0.5) * gaussian_pdf(t_range, 37, 4) * d_t)"
      ]
    },
    {
      "cell_type": "code",
      "execution_count": 81,
      "metadata": {
        "id": "Lm7b63oy0H5c"
      },
      "outputs": [],
      "source": [
        "d_t = 0.05\n",
        "z_range = np.arange(0,75, d_t)\n",
        "likelihood = gaussian_pdf(42, z_range, 1*3) * 0.5 + delta_42(42) * 0.5\n",
        "prior = gaussian_pdf(z_range, 37, 4)\n",
        "posterior = likelihood * prior / evidence"
      ]
    },
    {
      "cell_type": "code",
      "execution_count": 82,
      "metadata": {
        "colab": {
          "base_uri": "https://localhost:8080/",
          "height": 282
        },
        "id": "S8sG6jyBWndy",
        "outputId": "4c9b1432-4621-41e9-a018-9096df98a440"
      },
      "outputs": [
        {
          "data": {
            "text/plain": [
              "<matplotlib.collections.PolyCollection at 0x7f55b0e48810>"
            ]
          },
          "execution_count": 82,
          "metadata": {},
          "output_type": "execute_result"
        },
        {
          "data": {
            "image/png": "[encoded data removed]",
            "text/plain": [
              "<Figure size 432x288 with 1 Axes>"
            ]
          },
          "metadata": {
            "needs_background": "light"
          },
          "output_type": "display_data"
        }
      ],
      "source": [
        "plt.plot(z_range, posterior)\n",
        "plt.fill_between(z_range, 0, posterior, alpha=0.5)"
      ]
    },
    {
      "cell_type": "code",
      "execution_count": 83,
      "metadata": {
        "colab": {
          "base_uri": "https://localhost:8080/"
        },
        "id": "pKiA8gD3WniT",
        "outputId": "8af019ce-0bd4-4e46-acd4-1584222d9cdc"
      },
      "outputs": [
        {
          "data": {
            "text/plain": [
              "1.0004384235236667"
            ]
          },
          "execution_count": 83,
          "metadata": {},
          "output_type": "execute_result"
        }
      ],
      "source": [
        "auc(z_range,posterior)"
      ]
    },
    {
      "cell_type": "markdown",
      "metadata": {
        "id": "Hxt3-LXGbViY"
      },
      "source": [
        "Now the case where the friend tells 13 mm"
      ]
    },
    {
      "cell_type": "code",
      "execution_count": 99,
      "metadata": {
        "id": "3Mgmc43WZelC"
      },
      "outputs": [],
      "source": [
        "d_t = 0.5\n",
        "t_range = np.arange(-30, 50.5, d_t)\n",
        "evidence = np.sum((gaussian_pdf(13*3, t_range, 1*3) * 0.5 + delta_42(13*3) * 0.5) * gaussian_pdf(t_range, 37, 4) * d_t)"
      ]
    },
    {
      "cell_type": "code",
      "execution_count": 100,
      "metadata": {
        "id": "OVbSseQIXc8W"
      },
      "outputs": [],
      "source": [
        "d_t = 0.05\n",
        "z_range = np.arange(0, 75, d_t)\n",
        "likelihood = gaussian_pdf(13*3, z_range, 1*3) * 0.5 + delta_42(13*3) * 0.5\n",
        "prior = gaussian_pdf(z_range, 37, 4)\n",
        "posterior = likelihood * prior / evidence"
      ]
    },
    {
      "cell_type": "code",
      "execution_count": 101,
      "metadata": {
        "colab": {
          "base_uri": "https://localhost:8080/",
          "height": 282
        },
        "id": "gTRPFZXSXjhl",
        "outputId": "2034da12-7cb4-4147-fb28-e1f1e6d111f8"
      },
      "outputs": [
        {
          "data": {
            "text/plain": [
              "<matplotlib.collections.PolyCollection at 0x7f55b0a707d0>"
            ]
          },
          "execution_count": 101,
          "metadata": {},
          "output_type": "execute_result"
        },
        {
          "data": {
            "image/png": "[encoded data removed]",
            "text/plain": [
              "<Figure size 432x288 with 1 Axes>"
            ]
          },
          "metadata": {
            "needs_background": "light"
          },
          "output_type": "display_data"
        }
      ],
      "source": [
        "plt.plot(z_range, posterior)\n",
        "plt.fill_between(z_range, 0, posterior, alpha=0.5)"
      ]
    },
    {
      "cell_type": "code",
      "execution_count": 102,
      "metadata": {
        "colab": {
          "base_uri": "https://localhost:8080/"
        },
        "id": "v2_F7kFuAF4-",
        "outputId": "d4109aa5-07a6-4a52-8bfe-0ba2ea2dfcf3"
      },
      "outputs": [
        {
          "data": {
            "text/plain": [
              "1.0000002919421878"
            ]
          },
          "execution_count": 102,
          "metadata": {},
          "output_type": "execute_result"
        }
      ],
      "source": [
        "auc(z_range,posterior)"
      ]
    },
    {
      "cell_type": "code",
      "execution_count": 103,
      "metadata": {
        "colab": {
          "base_uri": "https://localhost:8080/"
        },
        "id": "Vz4wL1rycDBO",
        "outputId": "b90c2107-4d6a-4df4-eadc-80db87c03e23"
      },
      "outputs": [
        {
          "data": {
            "text/plain": [
              "0.16622022705976794"
            ]
          },
          "execution_count": 103,
          "metadata": {},
          "output_type": "execute_result"
        }
      ],
      "source": [
        "np.max(posterior)"
      ]
    },
    {
      "cell_type": "markdown",
      "metadata": {
        "id": "sP0e2J9did80"
      },
      "source": [
        "## Section 3.1 - Exercise 1 (Attempt)\n",
        "\n",
        "$$\n",
        "F(\\eta) = -\\log ∫e^{-\\eta^TΦ(y)}dy \\\\\n",
        "\\frac{F(\\eta)}{d\\eta} = \\frac{1}{∫e^{-\\eta^TΦ(y)}dy} \\left(-∫Φ(y)e^{-\\eta^TΦ(y)}dy\\right) \\\\\n",
        "= \\frac{1}{e^{-F(\\eta)}} \\left(-∫Φ(y)e^{-\\eta^TΦ(y)}dy\\right) \\\\\n",
        "= -e^{F(\\eta)} \\left(-∫Φ(y)e^{-\\eta^TΦ(y)}dy\\right) \\\\\n",
        "= ∫Φ(y)e^{-\\eta^TΦ(y)+F(\\eta)}dy\n",
        "$$"
      ]
    },
    {
      "cell_type": "markdown",
      "metadata": {
        "id": "4lXfELX4keiT"
      },
      "source": [
        "## Section 3.2 - Exercise 2"
      ]
    },
    {
      "cell_type": "markdown",
      "metadata": {
        "id": "zLOqRwahkjWM"
      },
      "source": [
        "Todo"
      ]
    }
  ],
  "metadata": {
    "colab": {
      "name": "Tractablility in univariate Bayesian inference.ipynb",
      "provenance": []
    },
    "kernelspec": {
      "display_name": "Python 3",
      "name": "python3"
    },
    "language_info": {
      "codemirror_mode": {
        "name": "ipython",
        "version": 3
      },
      "file_extension": ".py",
      "mimetype": "text/x-python",
      "name": "python",
      "nbconvert_exporter": "python",
      "pygments_lexer": "ipython3",
      "version": "3.9.6"
    }
  },
  "nbformat": 4,
  "nbformat_minor": 0
}
